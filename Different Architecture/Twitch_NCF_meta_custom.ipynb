{
  "nbformat": 4,
  "nbformat_minor": 0,
  "metadata": {
    "colab": {
      "provenance": [],
      "machine_shape": "hm"
    },
    "kernelspec": {
      "name": "python3",
      "display_name": "Python 3"
    },
    "language_info": {
      "name": "python"
    },
    "accelerator": "TPU",
    "gpuClass": "standard"
  },
  "cells": [
    {
      "cell_type": "code",
      "source": [
        "import pandas as pd\n",
        "import numpy as np\n",
        "from tqdm.notebook import tqdm\n",
        "from sklearn.model_selection import train_test_split\n",
        "import keras\n",
        "from keras import layers \n",
        "import tensorflow as tf\n",
        "from keras.models import Model\n",
        "from keras.optimizers import Adam, SGD"
      ],
      "metadata": {
        "id": "0riOOnaIIPyL"
      },
      "execution_count": null,
      "outputs": []
    },
    {
      "cell_type": "code",
      "source": [
        "print(\"Tensorflow version \" + tf.__version__)\n",
        "np.random.seed(123)\n",
        "try:\n",
        "  tpu = tf.distribute.cluster_resolver.TPUClusterResolver()  # TPU detection\n",
        "  print('Running on TPU ', tpu.cluster_spec().as_dict()['worker'])\n",
        "except ValueError:\n",
        "  raise BaseException('ERROR: Not connected to a TPU runtime; please see the previous cell in this notebook for instructions!')\n",
        "\n",
        "tf.config.experimental_connect_to_cluster(tpu)\n",
        "tf.tpu.experimental.initialize_tpu_system(tpu)\n",
        "tpu_strategy = tf.distribute.experimental.TPUStrategy(tpu)"
      ],
      "metadata": {
        "colab": {
          "base_uri": "https://localhost:8080/"
        },
        "id": "1K3YPwY9YD5V",
        "outputId": "8d08421a-fcc1-4bb4-c5fe-23908ad721ab"
      },
      "execution_count": null,
      "outputs": [
        {
          "output_type": "stream",
          "name": "stdout",
          "text": [
            "Tensorflow version 2.9.2\n",
            "Running on TPU  ['10.125.236.146:8470']\n"
          ]
        },
        {
          "output_type": "stream",
          "name": "stderr",
          "text": [
            "WARNING:tensorflow:TPU system grpc://10.125.236.146:8470 has already been initialized. Reinitializing the TPU can cause previously created variables on TPU to be lost.\n",
            "WARNING:absl:`tf.distribute.experimental.TPUStrategy` is deprecated, please use  the non experimental symbol `tf.distribute.TPUStrategy` instead.\n"
          ]
        }
      ]
    },
    {
      "cell_type": "code",
      "source": [
        "# requires training and test data with meta\n",
        "\n",
        "rating_df = pd.read_csv('meta_train.csv')\n",
        "rating_df = rating_df.rename(columns={'User':'u_id','ChannelName':'s_id','z_score_scaled':'rate'})\n",
        "rating_df.head()\n",
        "\n",
        "test_df = pd.read_csv('meta_test.csv')\n",
        "test_df = test_df.rename(columns={'User':'u_id','ChannelName':'s_id','z_score_scaled':'rate'})\n",
        "test_df.head()\n",
        "\n",
        "#min max normalization\n",
        "rating_df['Frequency'] = (rating_df['Frequency'] - rating_df['Frequency'].min()) / (rating_df['Frequency'].max() - rating_df['Frequency'].min())    \n",
        "rating_df['User_Deg'] = (rating_df['User_Deg'] - rating_df['User_Deg'].min()) / (rating_df['User_Deg'].max() - rating_df['User_Deg'].min())    \n",
        "rating_df['Channel_Deg'] = (rating_df['Channel_Deg'] - rating_df['Channel_Deg'].min()) / (rating_df['Channel_Deg'].max() - rating_df['Channel_Deg'].min())    \n",
        "\n",
        "test_df['Frequency'] = (test_df['Frequency'] - test_df['Frequency'].min()) / (test_df['Frequency'].max() - test_df['Frequency'].min())    \n",
        "test_df['User_Deg'] = (test_df['User_Deg'] - test_df['User_Deg'].min()) / (test_df['User_Deg'].max() - test_df['User_Deg'].min())    \n",
        "test_df['Channel_Deg'] = (test_df['Channel_Deg'] - test_df['Channel_Deg'].min()) / (test_df['Channel_Deg'].max() - test_df['Channel_Deg'].min())  \n",
        "rating_df.isnull().values.any()\n",
        "test_df.isnull().values.any()\n"
      ],
      "metadata": {
        "colab": {
          "base_uri": "https://localhost:8080/"
        },
        "id": "d7sw3eHgIQ7t",
        "outputId": "5fa8280b-b05d-4fba-df8a-6854cda2670f"
      },
      "execution_count": null,
      "outputs": [
        {
          "output_type": "execute_result",
          "data": {
            "text/plain": [
              "False"
            ]
          },
          "metadata": {},
          "execution_count": 204
        }
      ]
    },
    {
      "cell_type": "code",
      "source": [
        "# model requires a seed\n",
        "rating_df = rating_df.sample(frac=1, random_state=73)\n",
        "rating_df.s_id = pd.Categorical(rating_df.s_id)\n",
        "rating_df['s_id'] = rating_df.s_id.cat.codes\n",
        "rating_df.dtypes\n",
        "X = rating_df[['u_id', 's_id','Frequency','User_Deg','Channel_Deg']].values #,\n",
        "y = rating_df[\"rate\"]\n",
        "\n",
        "test_df = test_df.sample(frac=1, random_state=73)\n",
        "test_df.s_id = pd.Categorical(test_df.s_id)\n",
        "test_df['s_id'] = test_df.s_id.cat.codes\n",
        "test_df.dtypes\n",
        "test_in_u = test_df['u_id'].values #,'Frequency','User_Deg','Channel_Deg'\n",
        "test_in_s = test_df['s_id'].values\n",
        "test_in_f = test_df['Frequency'].values\n",
        "test_in_ud = test_df['User_Deg'].values\n",
        "test_in_cd = test_df['Channel_Deg'].values\n",
        "test_rating = test_df[\"rate\"]"
      ],
      "metadata": {
        "id": "SL4Bs9o6iTuZ"
      },
      "execution_count": null,
      "outputs": []
    },
    {
      "cell_type": "code",
      "source": [
        "# training and validation split lifted from: https://www.kaggle.com/code/chaitanya99/recommendation-system-cf-anime\n",
        "test_set_size = 10000 #10k for test set\n",
        "train_indices = rating_df.shape[0] - test_set_size \n",
        "\n",
        "X_train, X_val, y_train, y_val = (\n",
        "    X[:train_indices],\n",
        "    X[train_indices:],\n",
        "    y[:train_indices],\n",
        "    y[train_indices:],\n",
        ")\n",
        "\n",
        "print('> Train set ratings: {}'.format(len(y_train)))\n",
        "print('> Test set ratings: {}'.format(len(y_val)))"
      ],
      "metadata": {
        "id": "x0qKtQswiWyZ",
        "outputId": "9b98f38b-d939-4422-af13-96f35db09d38",
        "colab": {
          "base_uri": "https://localhost:8080/"
        }
      },
      "execution_count": null,
      "outputs": [
        {
          "output_type": "stream",
          "name": "stdout",
          "text": [
            "> Train set ratings: 1419900\n",
            "> Test set ratings: 10000\n"
          ]
        }
      ]
    },
    {
      "cell_type": "code",
      "source": [
        "X_train_array = [X_train[:, 0], X_train[:, 1],X_train[:, 2],X_train[:, 3],X_train[:, 4]]\n",
        "X_val_array = [X_val[:, 0], X_val[:, 1],X_val[:, 2],X_val[:, 3],X_val[:, 4]]\n",
        "\n",
        "X_trainmf_array = [X_train[:, 0], X_train[:, 1]]\n",
        "X_valmf_array = [X_val[:, 0], X_val[:, 1]]\n",
        "\n",
        "X_trainmeta_array = [X_train[:, 2],X_train[:, 3],X_train[:, 4]]\n",
        "X_valmeta_array = [X_val[:, 2],X_val[:, 3],X_val[:, 4]]"
      ],
      "metadata": {
        "id": "QyGHTM4NiYpx"
      },
      "execution_count": null,
      "outputs": []
    },
    {
      "cell_type": "code",
      "source": [
        "#from: https://github.com/hexiangnan/neural_collaborative_filtering/blob/4aab159e81c44b062c091bdaed0ab54ac632371f/NeuMF.py#L158\n",
        "in_u_dim = len(rating_df[\"u_id\"].unique())\n",
        "in_s_dim = len(rating_df[\"s_id\"].unique())\n",
        " \n",
        "latent_out_dim = 8 #embedding size\n",
        "\n",
        "# Embedding(input_dim = num_items\n",
        "# num_users, num_items = train.shape\n",
        "# output_dim = mf_dim\n",
        "# mf = 10"
      ],
      "metadata": {
        "id": "YXucb6SOx8Dp"
      },
      "execution_count": null,
      "outputs": []
    },
    {
      "cell_type": "code",
      "source": [
        "# Embedding layers\n",
        "from keras.layers import Add, Activation, Lambda, BatchNormalization, Concatenate, Dropout, Input, Embedding, Dot, Reshape, Dense, Flatten\n",
        "from keras import regularizers\n",
        "\n",
        "def ncf(): \n",
        "    \n",
        "    user_gmf = Input(name = 'u_in_gmf', shape = [1])\n",
        "    stream_gmf = Input(name = 's_in_gmf', shape = [1])\n",
        "\n",
        "    user_embedding_gmf = Embedding(name = 'u_emb_gmf', embeddings_regularizer=regularizers.L2(0), input_dim = in_u_dim, output_dim = latent_out_dim)(user_gmf)\n",
        "    stream_embedding_gmf = Embedding(name = 's_emb_gmf', embeddings_regularizer=regularizers.L2(0), input_dim = in_s_dim, output_dim = latent_out_dim)(stream_gmf)\n",
        "\n",
        "    x = tf.keras.layers.Multiply()([user_embedding_gmf, stream_embedding_gmf])\n",
        "    x = Model(inputs=[user_gmf,stream_gmf], outputs=x)\n",
        "\n",
        "\n",
        "    user_mlp = Input(name = 'u_in_mlp', shape = [1])\n",
        "    stream_mlp = Input(name = 's_in_mlp', shape = [1])\n",
        "    frequency_mlp = Input(name = 'f_in_mlp', shape = [1])\n",
        "    user_deg_mlp = Input(name = 'ud_in_mlp', shape = [1])\n",
        "    channel_deg_mlp = Input(name = 'cd_in_mlp', shape = [1])\n",
        "\n",
        "    user_embedding_mlp = Embedding(name = 'u_emb_mlp', embeddings_regularizer=regularizers.L2(0), input_dim = in_u_dim,output_dim = latent_out_dim)(user_mlp)\n",
        "    stream_embedding_mlp = Embedding(name = 's_emb_mlp', embeddings_regularizer=regularizers.L2(0), input_dim = in_s_dim, output_dim = latent_out_dim)(stream_mlp)\n",
        "    #meta-----------------------------------------------------------------------------------------------------------------\n",
        "    frequency_embedding_mlp = Embedding(name = 'f_emb_mlp', embeddings_regularizer=regularizers.L2(0), input_dim = in_u_dim, output_dim = latent_out_dim)(frequency_mlp)\n",
        "    user_deg_embedding_mlp = Embedding(name = 'ud_emb_mlp', embeddings_regularizer=regularizers.L2(0), input_dim = in_u_dim, output_dim = latent_out_dim)(user_deg_mlp)\n",
        "    channel_deg_embedding_mlp = Embedding(name = 'cd_emb_mlp', embeddings_regularizer=regularizers.L2(0), input_dim = in_u_dim, output_dim = latent_out_dim)(channel_deg_mlp)\n",
        "    #----------------------------------------------------------------------------------------------------------------------\n",
        "\n",
        "    y = tf.keras.layers.Concatenate()([user_embedding_mlp, stream_embedding_mlp,frequency_embedding_mlp,user_deg_embedding_mlp,channel_deg_embedding_mlp])\n",
        "    y = Flatten()(y)\n",
        "\n",
        "    y = keras.layers.Dense(1, activation='relu', kernel_regularizer=regularizers.L2(0))(y) \n",
        "    y = keras.layers.Dense(2, activation='relu', kernel_regularizer=regularizers.L2(0))(y) \n",
        "    y = keras.layers.Dense(3, activation='relu', kernel_regularizer=regularizers.L2(0))(y) \n",
        "    y = keras.layers.Dense(4, activation='relu', kernel_regularizer=regularizers.L2(0))(y) \n",
        "    y = keras.layers.Dense(5, activation='relu', kernel_regularizer=regularizers.L2(0))(y) \n",
        "    y = keras.layers.Dense(6, activation='relu', kernel_regularizer=regularizers.L2(0))(y) \n",
        "    y = keras.layers.Dense(7, activation='relu', kernel_regularizer=regularizers.L2(0))(y) \n",
        "    y = keras.layers.Dense(8, activation='relu', kernel_regularizer=regularizers.L2(0))(y) \n",
        "    y = keras.layers.Reshape([1, 8])(y)\n",
        "    y = Model(inputs=[user_mlp,stream_mlp,frequency_mlp,user_deg_mlp,channel_deg_mlp], outputs=y)\n",
        "\n",
        "\n",
        "    frequency = Input(name = 'f_in', shape = [1])\n",
        "    user_deg = Input(name = 'ud_in', shape = [1])\n",
        "    channel_deg = Input(name = 'cd_in', shape = [1])\n",
        "    #meta-----------------------------------------------------------------------------------------------------------------\n",
        "    frequency_embedding = Embedding(name = 'f_emb', embeddings_regularizer=regularizers.L2(0), input_dim = in_u_dim, output_dim = latent_out_dim)(frequency)\n",
        "    user_deg_embedding = Embedding(name = 'ud_emb', embeddings_regularizer=regularizers.L2(0), input_dim = in_u_dim, output_dim = latent_out_dim)(user_deg)\n",
        "    channel_deg_embedding = Embedding(name = 'cd_emb', embeddings_regularizer=regularizers.L2(0), input_dim = in_u_dim, output_dim = latent_out_dim)(channel_deg)\n",
        "    #----------------------------------------------------------------------------------------------------------------------\n",
        "    j = tf.keras.layers.Multiply()([frequency_embedding, user_deg_embedding, channel_deg_embedding])\n",
        "    j = Model(inputs=[frequency,user_deg,channel_deg], outputs=j)\n",
        "\n",
        "\n",
        "\n",
        "    #combined https://pyimagesearch.com/2019/02/04/keras-multiple-inputs-and-mixed-data/\n",
        "    combined = tf.keras.layers.Concatenate()([x.output, y.output, j.output])\n",
        "    z = Dense(1, kernel_initializer='lecun_uniform')(combined)\n",
        "    z = Activation(\"sigmoid\")(z)\n",
        "  \n",
        "    model = Model(inputs=[[user_gmf,stream_gmf], [user_mlp,stream_mlp,frequency_mlp,user_deg_mlp,channel_deg_mlp], [frequency,user_deg,channel_deg]], outputs=z)\n",
        "\n",
        "    model.compile(optimizer='sgd', loss='mse', metrics=[tf.keras.metrics.RootMeanSquaredError()])\n",
        "      #https://www.tensorflow.org/api_docs/python/tf/keras/metrics/RootMeanSquaredError\n",
        "    \n",
        "    return model\n",
        "\n",
        "with tpu_strategy.scope(): # creating the model in the TPUStrategy scope means we will train the model on the TPU\n",
        "  model = ncf()\n",
        "model.summary()\n",
        "#https://colab.research.google.com/notebooks/tpu.ipynb#scrollTo=hJl3vNtJOB-x\n",
        "\n",
        "\n",
        "#from: https://github.com/hexiangnan/neural_collaborative_filtering/blob/4aab159e81c44b062c091bdaed0ab54ac632371f/NeuMF.py#L65\n",
        "    # get_model(num_users, num_items, mf_dim=10, layers=[10], reg_layers=[0], reg_mf=0):\n",
        "    # MLP_Embedding_User = Embedding(input_dim = num_users, output_dim = layers[0]/2, name = \"mlp_embedding_user\",\n",
        "    #                               init = init_normal, W_regularizer = l2(reg_layers[0]), input_length=1)\n",
        "    # MLP_Embedding_Item = Embedding(input_dim = num_items, output_dim = layers[0]/2, name = 'mlp_embedding_item',\n",
        "    #                               init = init_normal, W_regularizer = l2(reg_layers[0]), input_length=1)   \n",
        "    # for idx in xrange(1, num_layer):\n",
        "    #     layer = Dense(layers[idx], W_regularizer= l2(reg_layers[idx]), activation='relu', name=\"layer%d\" %idx)\n",
        "    #     mlp_vector = layer(mlp_vector)\n",
        "    #skipping regularization due to compatibility issues\n",
        "#https://github.com/hexiangnan/neural_collaborative_filtering/blob/4aab159e81c44b062c091bdaed0ab54ac632371f/NeuMF.py#L15\n",
        "    # user_input = Input(shape=(1,), dtype='int32', name = 'user_input')\n",
        "    # item_input = Input(shape=(1,), dtype='int32', name = 'item_input')\n",
        "    \n",
        "    # # Embedding layer\n",
        "    # MF_Embedding_User = Embedding(input_dim = num_users, output_dim = mf_dim, name = 'mf_embedding_user',\n",
        "    #                               init = init_normal, W_regularizer = l2(reg_mf), input_length=1)\n",
        "    # MF_Embedding_Item = Embedding(input_dim = num_items, output_dim = mf_dim, name = 'mf_embedding_item',\n",
        "    #                               init = init_normal, W_regularizer = l2(reg_mf), input_length=1)   \n",
        "\n",
        "    # MLP_Embedding_User = Embedding(input_dim = num_users, output_dim = layers[0]/2, name = \"mlp_embedding_user\",\n",
        "    #                               init = init_normal, W_regularizer = l2(reg_layers[0]), input_length=1)\n",
        "    # MLP_Embedding_Item = Embedding(input_dim = num_items, output_dim = layers[0]/2, name = 'mlp_embedding_item',\n",
        "    #                               init = init_normal, W_regularizer = l2(reg_layers[0]), input_length=1)   \n",
        "    \n",
        "    # # MF part\n",
        "    # mf_user_latent = Flatten()(MF_Embedding_User(user_input))\n",
        "    # mf_item_latent = Flatten()(MF_Embedding_Item(item_input))\n",
        "    # mf_vector = merge([mf_user_latent, mf_item_latent], mode = 'mul') # element-wise multiply\n",
        "\n",
        "    # # MLP part \n",
        "    # mlp_user_latent = Flatten()(MLP_Embedding_User(user_input))\n",
        "    # mlp_item_latent = Flatten()(MLP_Embedding_Item(item_input))\n",
        "    # mlp_vector = merge([mlp_user_latent, mlp_item_latent], mode = 'concat')\n",
        "    # for idx in xrange(1, num_layer):\n",
        "    #     layer = Dense(layers[idx], W_regularizer= l2(reg_layers[idx]), activation='relu', name=\"layer%d\" %idx)\n",
        "    #     mlp_vector = layer(mlp_vector)\n",
        "\n",
        "    # # Concatenate MF and MLP parts\n",
        "    # #mf_vector = Lambda(lambda x: x * alpha)(mf_vector)\n",
        "    # #mlp_vector = Lambda(lambda x : x * (1-alpha))(mlp_vector)\n",
        "    # predict_vector = merge([mf_vector, mlp_vector], mode = 'concat')\n",
        "    \n",
        "    # # Final prediction layer\n",
        "    # prediction = Dense(1, activation='sigmoid', init='lecun_uniform', name = \"prediction\")(predict_vector)\n",
        "    \n",
        "    # model = Model(input=[user_input, item_input], output=prediction)\n"
      ],
      "metadata": {
        "colab": {
          "base_uri": "https://localhost:8080/"
        },
        "id": "jSIdbCkdjkVX",
        "outputId": "21a4dc21-ed35-4987-8b2e-8adcf0461051"
      },
      "execution_count": null,
      "outputs": [
        {
          "output_type": "stream",
          "name": "stdout",
          "text": [
            "Model: \"model_42\"\n",
            "__________________________________________________________________________________________________\n",
            " Layer (type)                   Output Shape         Param #     Connected to                     \n",
            "==================================================================================================\n",
            " u_in_mlp (InputLayer)          [(None, 1)]          0           []                               \n",
            "                                                                                                  \n",
            " s_in_mlp (InputLayer)          [(None, 1)]          0           []                               \n",
            "                                                                                                  \n",
            " f_in_mlp (InputLayer)          [(None, 1)]          0           []                               \n",
            "                                                                                                  \n",
            " ud_in_mlp (InputLayer)         [(None, 1)]          0           []                               \n",
            "                                                                                                  \n",
            " cd_in_mlp (InputLayer)         [(None, 1)]          0           []                               \n",
            "                                                                                                  \n",
            " u_emb_mlp (Embedding)          (None, 1, 8)         799176      ['u_in_mlp[0][0]']               \n",
            "                                                                                                  \n",
            " s_emb_mlp (Embedding)          (None, 1, 8)         1264936     ['s_in_mlp[0][0]']               \n",
            "                                                                                                  \n",
            " f_emb_mlp (Embedding)          (None, 1, 8)         799176      ['f_in_mlp[0][0]']               \n",
            "                                                                                                  \n",
            " ud_emb_mlp (Embedding)         (None, 1, 8)         799176      ['ud_in_mlp[0][0]']              \n",
            "                                                                                                  \n",
            " cd_emb_mlp (Embedding)         (None, 1, 8)         799176      ['cd_in_mlp[0][0]']              \n",
            "                                                                                                  \n",
            " concatenate_21 (Concatenate)   (None, 1, 40)        0           ['u_emb_mlp[0][0]',              \n",
            "                                                                  's_emb_mlp[0][0]',              \n",
            "                                                                  'f_emb_mlp[0][0]',              \n",
            "                                                                  'ud_emb_mlp[0][0]',             \n",
            "                                                                  'cd_emb_mlp[0][0]']             \n",
            "                                                                                                  \n",
            " flatten_12 (Flatten)           (None, 40)           0           ['concatenate_21[0][0]']         \n",
            "                                                                                                  \n",
            " dense_104 (Dense)              (None, 1)            41          ['flatten_12[0][0]']             \n",
            "                                                                                                  \n",
            " dense_105 (Dense)              (None, 2)            4           ['dense_104[0][0]']              \n",
            "                                                                                                  \n",
            " dense_106 (Dense)              (None, 3)            9           ['dense_105[0][0]']              \n",
            "                                                                                                  \n",
            " dense_107 (Dense)              (None, 4)            16          ['dense_106[0][0]']              \n",
            "                                                                                                  \n",
            " dense_108 (Dense)              (None, 5)            25          ['dense_107[0][0]']              \n",
            "                                                                                                  \n",
            " dense_109 (Dense)              (None, 6)            36          ['dense_108[0][0]']              \n",
            "                                                                                                  \n",
            " u_in_gmf (InputLayer)          [(None, 1)]          0           []                               \n",
            "                                                                                                  \n",
            " s_in_gmf (InputLayer)          [(None, 1)]          0           []                               \n",
            "                                                                                                  \n",
            " dense_110 (Dense)              (None, 7)            49          ['dense_109[0][0]']              \n",
            "                                                                                                  \n",
            " f_in (InputLayer)              [(None, 1)]          0           []                               \n",
            "                                                                                                  \n",
            " ud_in (InputLayer)             [(None, 1)]          0           []                               \n",
            "                                                                                                  \n",
            " cd_in (InputLayer)             [(None, 1)]          0           []                               \n",
            "                                                                                                  \n",
            " u_emb_gmf (Embedding)          (None, 1, 8)         799176      ['u_in_gmf[0][0]']               \n",
            "                                                                                                  \n",
            " s_emb_gmf (Embedding)          (None, 1, 8)         1264936     ['s_in_gmf[0][0]']               \n",
            "                                                                                                  \n",
            " dense_111 (Dense)              (None, 8)            64          ['dense_110[0][0]']              \n",
            "                                                                                                  \n",
            " f_emb (Embedding)              (None, 1, 8)         799176      ['f_in[0][0]']                   \n",
            "                                                                                                  \n",
            " ud_emb (Embedding)             (None, 1, 8)         799176      ['ud_in[0][0]']                  \n",
            "                                                                                                  \n",
            " cd_emb (Embedding)             (None, 1, 8)         799176      ['cd_in[0][0]']                  \n",
            "                                                                                                  \n",
            " multiply_20 (Multiply)         (None, 1, 8)         0           ['u_emb_gmf[0][0]',              \n",
            "                                                                  's_emb_gmf[0][0]']              \n",
            "                                                                                                  \n",
            " reshape_9 (Reshape)            (None, 1, 8)         0           ['dense_111[0][0]']              \n",
            "                                                                                                  \n",
            " multiply_21 (Multiply)         (None, 1, 8)         0           ['f_emb[0][0]',                  \n",
            "                                                                  'ud_emb[0][0]',                 \n",
            "                                                                  'cd_emb[0][0]']                 \n",
            "                                                                                                  \n",
            " concatenate_22 (Concatenate)   (None, 1, 24)        0           ['multiply_20[0][0]',            \n",
            "                                                                  'reshape_9[0][0]',              \n",
            "                                                                  'multiply_21[0][0]']            \n",
            "                                                                                                  \n",
            " dense_112 (Dense)              (None, 1, 1)         25          ['concatenate_22[0][0]']         \n",
            "                                                                                                  \n",
            " activation_8 (Activation)      (None, 1, 1)         0           ['dense_112[0][0]']              \n",
            "                                                                                                  \n",
            "==================================================================================================\n",
            "Total params: 8,923,549\n",
            "Trainable params: 8,923,549\n",
            "Non-trainable params: 0\n",
            "__________________________________________________________________________________________________\n"
          ]
        }
      ]
    },
    {
      "cell_type": "code",
      "source": [
        "# Model training\n",
        "batch_size = 10000\n",
        "history = model.fit(\n",
        "    x=[X_trainmf_array, X_train_array, X_trainmeta_array],\n",
        "    y=[y_train, y_train, y_train],\n",
        "    batch_size=batch_size,\n",
        "    epochs=20,\n",
        "    verbose=1,\n",
        "    validation_data=([X_valmf_array, X_val_array, X_valmeta_array], [y_val, y_val, y_val])\n",
        ")\n",
        "\n",
        "model.save_weights('NCF_with_meta_custom.h5')\n"
      ],
      "metadata": {
        "colab": {
          "base_uri": "https://localhost:8080/"
        },
        "id": "7YnLr5gYkN_d",
        "outputId": "e878511d-6291-4557-d9fc-836974abec95"
      },
      "execution_count": null,
      "outputs": [
        {
          "output_type": "stream",
          "name": "stdout",
          "text": [
            "Epoch 1/20\n",
            "142/142 [==============================] - 21s 83ms/step - loss: 0.0932 - root_mean_squared_error: 0.3053 - val_loss: 0.0765 - val_root_mean_squared_error: 0.2766\n",
            "Epoch 2/20\n",
            "142/142 [==============================] - 9s 63ms/step - loss: 0.0634 - root_mean_squared_error: 0.2519 - val_loss: 0.0525 - val_root_mean_squared_error: 0.2291\n",
            "Epoch 3/20\n",
            "142/142 [==============================] - 9s 60ms/step - loss: 0.0439 - root_mean_squared_error: 0.2096 - val_loss: 0.0367 - val_root_mean_squared_error: 0.1916\n",
            "Epoch 4/20\n",
            "142/142 [==============================] - 9s 61ms/step - loss: 0.0311 - root_mean_squared_error: 0.1763 - val_loss: 0.0263 - val_root_mean_squared_error: 0.1621\n",
            "Epoch 5/20\n",
            "142/142 [==============================] - 9s 62ms/step - loss: 0.0225 - root_mean_squared_error: 0.1501 - val_loss: 0.0193 - val_root_mean_squared_error: 0.1390\n",
            "Epoch 6/20\n",
            "142/142 [==============================] - 9s 61ms/step - loss: 0.0169 - root_mean_squared_error: 0.1299 - val_loss: 0.0147 - val_root_mean_squared_error: 0.1211\n",
            "Epoch 7/20\n",
            "142/142 [==============================] - 9s 61ms/step - loss: 0.0131 - root_mean_squared_error: 0.1143 - val_loss: 0.0115 - val_root_mean_squared_error: 0.1073\n",
            "Epoch 8/20\n",
            "142/142 [==============================] - 9s 61ms/step - loss: 0.0105 - root_mean_squared_error: 0.1023 - val_loss: 0.0093 - val_root_mean_squared_error: 0.0967\n",
            "Epoch 9/20\n",
            "142/142 [==============================] - 9s 61ms/step - loss: 0.0087 - root_mean_squared_error: 0.0934 - val_loss: 0.0079 - val_root_mean_squared_error: 0.0888\n",
            "Epoch 10/20\n",
            "142/142 [==============================] - 9s 61ms/step - loss: 0.0075 - root_mean_squared_error: 0.0866 - val_loss: 0.0069 - val_root_mean_squared_error: 0.0828\n",
            "Epoch 11/20\n",
            "142/142 [==============================] - 9s 61ms/step - loss: 0.0067 - root_mean_squared_error: 0.0817 - val_loss: 0.0061 - val_root_mean_squared_error: 0.0784\n",
            "Epoch 12/20\n",
            "142/142 [==============================] - 9s 61ms/step - loss: 0.0061 - root_mean_squared_error: 0.0781 - val_loss: 0.0057 - val_root_mean_squared_error: 0.0752\n",
            "Epoch 13/20\n",
            "142/142 [==============================] - 9s 61ms/step - loss: 0.0057 - root_mean_squared_error: 0.0754 - val_loss: 0.0053 - val_root_mean_squared_error: 0.0728\n",
            "Epoch 14/20\n",
            "142/142 [==============================] - 9s 61ms/step - loss: 0.0054 - root_mean_squared_error: 0.0735 - val_loss: 0.0050 - val_root_mean_squared_error: 0.0711\n",
            "Epoch 15/20\n",
            "142/142 [==============================] - 9s 61ms/step - loss: 0.0052 - root_mean_squared_error: 0.0721 - val_loss: 0.0049 - val_root_mean_squared_error: 0.0698\n",
            "Epoch 16/20\n",
            "142/142 [==============================] - 9s 61ms/step - loss: 0.0051 - root_mean_squared_error: 0.0711 - val_loss: 0.0047 - val_root_mean_squared_error: 0.0689\n",
            "Epoch 17/20\n",
            "142/142 [==============================] - 9s 62ms/step - loss: 0.0050 - root_mean_squared_error: 0.0704 - val_loss: 0.0046 - val_root_mean_squared_error: 0.0682\n",
            "Epoch 18/20\n",
            "142/142 [==============================] - 9s 61ms/step - loss: 0.0049 - root_mean_squared_error: 0.0698 - val_loss: 0.0046 - val_root_mean_squared_error: 0.0677\n",
            "Epoch 19/20\n",
            "142/142 [==============================] - 9s 61ms/step - loss: 0.0048 - root_mean_squared_error: 0.0695 - val_loss: 0.0045 - val_root_mean_squared_error: 0.0673\n",
            "Epoch 20/20\n",
            "142/142 [==============================] - 9s 61ms/step - loss: 0.0048 - root_mean_squared_error: 0.0692 - val_loss: 0.0045 - val_root_mean_squared_error: 0.0670\n"
          ]
        }
      ]
    },
    {
      "cell_type": "code",
      "source": [
        "#predict test\n",
        "pred_inputmf = [test_in_u, test_in_s]\n",
        "pred_input = [test_in_u, test_in_s, test_in_f, test_in_ud, test_in_cd]\n",
        "pred_inputmeta = [test_in_f, test_in_ud, test_in_cd]\n",
        "test_pred = model.predict_on_batch([pred_inputmf,pred_input,pred_inputmeta])\n",
        "test_pred\n"
      ],
      "metadata": {
        "colab": {
          "base_uri": "https://localhost:8080/"
        },
        "id": "65Kch9KnhYM_",
        "outputId": "a583e22a-238a-4167-8e2b-8e4899265c57"
      },
      "execution_count": null,
      "outputs": [
        {
          "output_type": "stream",
          "name": "stderr",
          "text": [
            "WARNING:tensorflow:6 out of the last 11 calls to <function Model.make_predict_function.<locals>.predict_function at 0x7f117d9fef80> triggered tf.function retracing. Tracing is expensive and the excessive number of tracings could be due to (1) creating @tf.function repeatedly in a loop, (2) passing tensors with different shapes, (3) passing Python objects instead of tensors. For (1), please define your @tf.function outside of the loop. For (2), @tf.function has reduce_retracing=True option that can avoid unnecessary retracing. For (3), please refer to https://www.tensorflow.org/guide/function#controlling_retracing and https://www.tensorflow.org/api_docs/python/tf/function for  more details.\n"
          ]
        },
        {
          "output_type": "execute_result",
          "data": {
            "text/plain": [
              "array([[[0.18127751]],\n",
              "\n",
              "       [[0.18116787]],\n",
              "\n",
              "       [[0.18120632]],\n",
              "\n",
              "       ...,\n",
              "\n",
              "       [[0.18108392]],\n",
              "\n",
              "       [[0.18109468]],\n",
              "\n",
              "       [[0.18117076]]], dtype=float32)"
            ]
          },
          "metadata": {},
          "execution_count": 213
        }
      ]
    },
    {
      "cell_type": "code",
      "source": [
        "import matplotlib.pyplot as plt\n",
        "%matplotlib inline\n",
        "\n",
        "plt.plot(history.history[\"loss\"][0:-2])\n",
        "plt.plot(history.history[\"root_mean_squared_error\"][0:-2])\n",
        "plt.title(\"MSE Loss, RMSE\")\n",
        "plt.ylabel(\"Loss\")\n",
        "plt.xlabel(\"epoch\")\n",
        "plt.legend([\"MSE Loss\", \"RMSE\"], loc=\"center\")\n",
        "plt.show()"
      ],
      "metadata": {
        "colab": {
          "base_uri": "https://localhost:8080/",
          "height": 295
        },
        "id": "gTDWZNG3n1Ef",
        "outputId": "e9918cde-8cfd-4c11-fb06-cbe1c75bce12"
      },
      "execution_count": null,
      "outputs": [
        {
          "output_type": "display_data",
          "data": {
            "text/plain": [
              "<Figure size 432x288 with 1 Axes>"
            ],
            "image/png": "[encoded data removed]"
          },
          "metadata": {
            "needs_background": "light"
          }
        }
      ]
    },
    {
      "cell_type": "code",
      "source": [
        "final_RMSE = (history.history['root_mean_squared_error'])[-1]\n",
        "final_RMSE"
      ],
      "metadata": {
        "colab": {
          "base_uri": "https://localhost:8080/"
        },
        "id": "-w3iQ28com6X",
        "outputId": "ed340f2b-17a8-4340-c129-c665af05786d"
      },
      "execution_count": null,
      "outputs": [
        {
          "output_type": "execute_result",
          "data": {
            "text/plain": [
              "0.06918631494045258"
            ]
          },
          "metadata": {},
          "execution_count": 215
        }
      ]
    },
    {
      "cell_type": "code",
      "source": [
        "#https://stackoverflow.com/questions/17197492/is-there-a-library-function-for-root-mean-square-error-rmse-in-python\n",
        "from sklearn.metrics import mean_squared_error\n",
        "\n",
        "#rms = mean_squared_error(y_actual, y_predicted, squared=False)\n",
        "rms = mean_squared_error(test_rating.to_numpy(), test_pred.reshape((len(test_pred),)), squared=False)\n",
        "rms\n",
        "#no regulizar 0.2753604126884709 - from older code\n",
        "#with regulizer 0.2750856447278888 - from older code\n",
        "#3 channel meta 0.275373432476686\n",
        "#3 channel regulaized with normalized meta 0.2750072302978956"
      ],
      "metadata": {
        "id": "4TxmTEtQq7ko",
        "colab": {
          "base_uri": "https://localhost:8080/"
        },
        "outputId": "fce0cf56-e908-48dc-ca5b-43383808fa94"
      },
      "execution_count": null,
      "outputs": [
        {
          "output_type": "execute_result",
          "data": {
            "text/plain": [
              "0.2750072302978956"
            ]
          },
          "metadata": {},
          "execution_count": 216
        }
      ]
    }
  ]
}