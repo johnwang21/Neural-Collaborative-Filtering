{
  "nbformat": 4,
  "nbformat_minor": 0,
  "metadata": {
    "colab": {
      "provenance": [],
      "machine_shape": "hm"
    },
    "kernelspec": {
      "name": "python3",
      "display_name": "Python 3"
    },
    "language_info": {
      "name": "python"
    },
    "accelerator": "TPU",
    "gpuClass": "standard"
  },
  "cells": [
    {
      "cell_type": "code",
      "source": [
        "import pandas as pd\n",
        "import numpy as np\n",
        "from tqdm.notebook import tqdm\n",
        "from sklearn.model_selection import train_test_split\n",
        "import keras\n",
        "from keras import layers \n",
        "import tensorflow as tf\n",
        "from keras.models import Model\n",
        "from keras.optimizers import Adam, SGD"
      ],
      "metadata": {
        "id": "0riOOnaIIPyL"
      },
      "execution_count": null,
      "outputs": []
    },
    {
      "cell_type": "code",
      "source": [
        "print(\"Tensorflow version \" + tf.__version__)\n",
        "np.random.seed(123)\n",
        "try:\n",
        "  tpu = tf.distribute.cluster_resolver.TPUClusterResolver()  # TPU detection\n",
        "  print('Running on TPU ', tpu.cluster_spec().as_dict()['worker'])\n",
        "except ValueError:\n",
        "  raise BaseException('ERROR: Not connected to a TPU runtime; please see the previous cell in this notebook for instructions!')\n",
        "\n",
        "tf.config.experimental_connect_to_cluster(tpu)\n",
        "tf.tpu.experimental.initialize_tpu_system(tpu)\n",
        "tpu_strategy = tf.distribute.experimental.TPUStrategy(tpu)"
      ],
      "metadata": {
        "colab": {
          "base_uri": "https://localhost:8080/"
        },
        "id": "1K3YPwY9YD5V",
        "outputId": "fdea2a1b-ee01-453d-bca1-5370c1c4225b"
      },
      "execution_count": null,
      "outputs": [
        {
          "output_type": "stream",
          "name": "stdout",
          "text": [
            "Tensorflow version 2.9.2\n",
            "Running on TPU  ['10.88.168.2:8470']\n"
          ]
        },
        {
          "output_type": "stream",
          "name": "stderr",
          "text": [
            "WARNING:absl:`tf.distribute.experimental.TPUStrategy` is deprecated, please use  the non experimental symbol `tf.distribute.TPUStrategy` instead.\n"
          ]
        }
      ]
    },
    {
      "cell_type": "code",
      "source": [
        "# requires training and test data with metadata\n",
        "\n",
        "rating_df = pd.read_csv('meta_train.csv')\n",
        "rating_df = rating_df.rename(columns={'User':'u_id','ChannelName':'s_id','z_score_scaled':'rate'})\n",
        "rating_df.head()\n",
        "\n",
        "test_df = pd.read_csv('meta_test.csv')\n",
        "test_df = test_df.rename(columns={'User':'u_id','ChannelName':'s_id','z_score_scaled':'rate'})\n",
        "test_df.head()\n",
        "\n",
        "rating_df['Frequency'] = (rating_df['Frequency'] - rating_df['Frequency'].min()) / (rating_df['Frequency'].max() - rating_df['Frequency'].min())    \n",
        "rating_df['User_Deg'] = (rating_df['User_Deg'] - rating_df['User_Deg'].min()) / (rating_df['User_Deg'].max() - rating_df['User_Deg'].min())    \n",
        "rating_df['Channel_Deg'] = (rating_df['Channel_Deg'] - rating_df['Channel_Deg'].min()) / (rating_df['Channel_Deg'].max() - rating_df['Channel_Deg'].min())    \n",
        "\n",
        "test_df['Frequency'] = (test_df['Frequency'] - test_df['Frequency'].min()) / (test_df['Frequency'].max() - test_df['Frequency'].min())    \n",
        "test_df['User_Deg'] = (test_df['User_Deg'] - test_df['User_Deg'].min()) / (test_df['User_Deg'].max() - test_df['User_Deg'].min())    \n",
        "test_df['Channel_Deg'] = (test_df['Channel_Deg'] - test_df['Channel_Deg'].min()) / (test_df['Channel_Deg'].max() - test_df['Channel_Deg'].min())  \n",
        "rating_df.isnull().values.any()\n",
        "test_df.isnull().values.any()\n"
      ],
      "metadata": {
        "colab": {
          "base_uri": "https://localhost:8080/"
        },
        "id": "d7sw3eHgIQ7t",
        "outputId": "80b3998c-cbb4-4d0e-eb0c-4b0556380180"
      },
      "execution_count": null,
      "outputs": [
        {
          "output_type": "execute_result",
          "data": {
            "text/plain": [
              "False"
            ]
          },
          "metadata": {},
          "execution_count": 3
        }
      ]
    },
    {
      "cell_type": "code",
      "source": [
        "# model requires a random seed\n",
        "rating_df = rating_df.sample(frac=1, random_state=73)\n",
        "rating_df.s_id = pd.Categorical(rating_df.s_id)\n",
        "rating_df['s_id'] = rating_df.s_id.cat.codes\n",
        "rating_df.dtypes\n",
        "X = rating_df[['u_id', 's_id','Frequency','User_Deg','Channel_Deg']].values #,\n",
        "y = rating_df[\"rate\"]\n",
        "\n",
        "test_df = test_df.sample(frac=1, random_state=73)\n",
        "test_df.s_id = pd.Categorical(test_df.s_id)\n",
        "test_df['s_id'] = test_df.s_id.cat.codes\n",
        "test_df.dtypes\n",
        "test_in_u = test_df['u_id'].values #,'Frequency','User_Deg','Channel_Deg'\n",
        "test_in_s = test_df['s_id'].values\n",
        "test_in_f = test_df['Frequency'].values\n",
        "test_in_ud = test_df['User_Deg'].values\n",
        "test_in_cd = test_df['Channel_Deg'].values\n",
        "test_rating = test_df[\"rate\"]"
      ],
      "metadata": {
        "id": "SL4Bs9o6iTuZ"
      },
      "execution_count": null,
      "outputs": []
    },
    {
      "cell_type": "code",
      "source": [
        "# traing and validation split lifted from: https://www.kaggle.com/code/chaitanya99/recommendation-system-cf-anime\n",
        "test_set_size = 10000 #10k for test set\n",
        "train_indices = rating_df.shape[0] - test_set_size \n",
        "\n",
        "X_train, X_val, y_train, y_val = (\n",
        "    X[:train_indices],\n",
        "    X[train_indices:],\n",
        "    y[:train_indices],\n",
        "    y[train_indices:],\n",
        ")\n",
        "\n",
        "print('> Train set ratings: {}'.format(len(y_train)))\n",
        "print('> Test set ratings: {}'.format(len(y_val)))"
      ],
      "metadata": {
        "id": "x0qKtQswiWyZ",
        "outputId": "21f2f8ee-1fb4-41c0-c0c5-14d17e042323",
        "colab": {
          "base_uri": "https://localhost:8080/"
        }
      },
      "execution_count": null,
      "outputs": [
        {
          "output_type": "stream",
          "name": "stdout",
          "text": [
            "> Train set ratings: 1419900\n",
            "> Test set ratings: 10000\n"
          ]
        }
      ]
    },
    {
      "cell_type": "code",
      "source": [
        "X_train_array = [X_train[:, 0], X_train[:, 1],X_train[:, 2],X_train[:, 3],X_train[:, 4]]\n",
        "X_val_array = [X_val[:, 0], X_val[:, 1],X_val[:, 2],X_val[:, 3],X_val[:, 4]]"
      ],
      "metadata": {
        "id": "QyGHTM4NiYpx"
      },
      "execution_count": null,
      "outputs": []
    },
    {
      "cell_type": "code",
      "source": [
        "#from: https://github.com/hexiangnan/neural_collaborative_filtering/blob/4aab159e81c44b062c091bdaed0ab54ac632371f/NeuMF.py#L158\n",
        "in_u_dim = len(rating_df[\"u_id\"].unique())\n",
        "in_s_dim = len(rating_df[\"s_id\"].unique())\n",
        " \n",
        "latent_out_dim = 8 #embedding size\n",
        "\n",
        "# Embedding(input_dim = num_items\n",
        "# num_users, num_items = train.shape\n",
        "# output_dim = mf_dim\n",
        "# mf = 10"
      ],
      "metadata": {
        "id": "YXucb6SOx8Dp"
      },
      "execution_count": null,
      "outputs": []
    },
    {
      "cell_type": "code",
      "source": [
        "# Embedding layers\n",
        "from keras.layers import Add, Activation, Lambda, BatchNormalization, Concatenate, Dropout, Input, Embedding, Dot, Reshape, Dense, Flatten\n",
        "from keras import regularizers\n",
        "\n",
        "def ncf(): \n",
        "    \n",
        "    user_gmf = Input(name = 'u_in_gmf', shape = [1])\n",
        "    stream_gmf = Input(name = 's_in_gmf', shape = [1])\n",
        "    frequency_gmf = Input(name = 'f_in_gmf', shape = [1])\n",
        "    user_deg_gmf = Input(name = 'ud_in_gmf', shape = [1])\n",
        "    channel_deg_gmf = Input(name = 'cd_in_gmf', shape = [1])\n",
        "\n",
        "    user_embedding_gmf = Embedding(name = 'u_emb_gmf', embeddings_regularizer=regularizers.L2(0), input_dim = in_u_dim, output_dim = latent_out_dim)(user_gmf)\n",
        "    stream_embedding_gmf = Embedding(name = 's_emb_gmf', embeddings_regularizer=regularizers.L2(0), input_dim = in_s_dim, output_dim = latent_out_dim)(stream_gmf)\n",
        "    #meta-----------------------------------------------------------------------------------------------------------------\n",
        "    frequency_embedding_gmf = Embedding(name = 'f_emb_gmf', embeddings_regularizer=regularizers.L2(0), input_dim = in_u_dim, output_dim = latent_out_dim)(frequency_gmf)\n",
        "    user_deg_embedding_gmf = Embedding(name = 'ud_emb_gmf', embeddings_regularizer=regularizers.L2(0), input_dim = in_u_dim, output_dim = latent_out_dim)(user_deg_gmf)\n",
        "    channel_deg_embedding_gmf = Embedding(name = 'cd_emb_gmf', embeddings_regularizer=regularizers.L2(0), input_dim = in_u_dim, output_dim = latent_out_dim)(channel_deg_gmf)\n",
        "    #----------------------------------------------------------------------------------------------------------------------\n",
        "\n",
        "    x = tf.keras.layers.Multiply()([user_embedding_gmf, stream_embedding_gmf,frequency_embedding_gmf,user_deg_embedding_gmf,channel_deg_embedding_gmf])\n",
        "    x = Model(inputs=[user_gmf,stream_gmf,frequency_gmf,user_deg_gmf,channel_deg_gmf], outputs=x)\n",
        "\n",
        "\n",
        "    user_mlp = Input(name = 'u_in_mlp', shape = [1])\n",
        "    stream_mlp = Input(name = 's_in_mlp', shape = [1])\n",
        "    frequency_mlp = Input(name = 'f_in_mlp', shape = [1])\n",
        "    user_deg_mlp = Input(name = 'ud_in_mlp', shape = [1])\n",
        "    channel_deg_mlp = Input(name = 'cd_in_mlp', shape = [1])\n",
        "\n",
        "    user_embedding_mlp = Embedding(name = 'u_emb_mlp', embeddings_regularizer=regularizers.L2(0), input_dim = in_u_dim,output_dim = latent_out_dim)(user_mlp)\n",
        "    stream_embedding_mlp = Embedding(name = 's_emb_mlp', embeddings_regularizer=regularizers.L2(0), input_dim = in_s_dim, output_dim = latent_out_dim)(stream_mlp)\n",
        "    #meta-----------------------------------------------------------------------------------------------------------------\n",
        "    frequency_embedding_mlp = Embedding(name = 'f_emb_mlp', embeddings_regularizer=regularizers.L2(0), input_dim = in_u_dim, output_dim = latent_out_dim)(frequency_mlp)\n",
        "    user_deg_embedding_mlp = Embedding(name = 'ud_emb_mlp', embeddings_regularizer=regularizers.L2(0), input_dim = in_u_dim, output_dim = latent_out_dim)(user_deg_mlp)\n",
        "    channel_deg_embedding_mlp = Embedding(name = 'cd_emb_mlp', embeddings_regularizer=regularizers.L2(0), input_dim = in_u_dim, output_dim = latent_out_dim)(channel_deg_mlp)\n",
        "    #----------------------------------------------------------------------------------------------------------------------\n",
        "\n",
        "    y = tf.keras.layers.Concatenate()([user_embedding_mlp, stream_embedding_mlp,frequency_embedding_mlp,user_deg_embedding_mlp,channel_deg_embedding_mlp])\n",
        "    y = Flatten()(y)\n",
        "\n",
        "    y = keras.layers.Dense(1, activation='relu', kernel_regularizer=regularizers.L2(0))(y) \n",
        "    y = keras.layers.Dense(2, activation='relu', kernel_regularizer=regularizers.L2(0))(y) \n",
        "    y = keras.layers.Dense(3, activation='relu', kernel_regularizer=regularizers.L2(0))(y) \n",
        "    y = keras.layers.Dense(4, activation='relu', kernel_regularizer=regularizers.L2(0))(y) \n",
        "    y = keras.layers.Dense(5, activation='relu', kernel_regularizer=regularizers.L2(0))(y) \n",
        "    y = keras.layers.Dense(6, activation='relu', kernel_regularizer=regularizers.L2(0))(y) \n",
        "    y = keras.layers.Dense(7, activation='relu', kernel_regularizer=regularizers.L2(0))(y) \n",
        "    y = keras.layers.Dense(8, activation='relu', kernel_regularizer=regularizers.L2(0))(y) \n",
        "    y = keras.layers.Dense(9, activation='relu', kernel_regularizer=regularizers.L2(0))(y) \n",
        "    y = keras.layers.Dense(10, activation='relu', kernel_regularizer=regularizers.L2(0))(y) \n",
        "    y = keras.layers.Dense(11, activation='relu', kernel_regularizer=regularizers.L2(0))(y) \n",
        "    y = keras.layers.Dense(12, activation='relu', kernel_regularizer=regularizers.L2(0))(y) \n",
        "    y = keras.layers.Dense(13, activation='relu', kernel_regularizer=regularizers.L2(0))(y) \n",
        "    y = keras.layers.Dense(14, activation='relu', kernel_regularizer=regularizers.L2(0))(y) \n",
        "    y = keras.layers.Dense(15, activation='relu', kernel_regularizer=regularizers.L2(0))(y) \n",
        "    y = keras.layers.Dense(16, activation='relu', kernel_regularizer=regularizers.L2(0))(y) \n",
        "    y = keras.layers.Reshape([1, 16])(y)\n",
        "    y = Model(inputs=[user_mlp,stream_mlp,frequency_mlp,user_deg_mlp,channel_deg_mlp], outputs=y)\n",
        "\n",
        "\n",
        "    #combined https://pyimagesearch.com/2019/02/04/keras-multiple-inputs-and-mixed-data/\n",
        "    #added 2 layers to final ncf\n",
        "    combined = tf.keras.layers.Concatenate()([x.output, y.output])\n",
        "    z = Dense(1, kernel_initializer='lecun_uniform')(combined)\n",
        "    z = Activation(\"sigmoid\")(z)\n",
        "  \n",
        "    model = Model(inputs=[[user_gmf,stream_gmf,frequency_gmf,user_deg_gmf,channel_deg_gmf], [user_mlp,stream_mlp,frequency_mlp,user_deg_mlp,channel_deg_mlp]], outputs=z)\n",
        "\n",
        "    model.compile(optimizer='sgd', loss='mse', metrics=[tf.keras.metrics.RootMeanSquaredError()])\n",
        "      #https://www.tensorflow.org/api_docs/python/tf/keras/metrics/RootMeanSquaredError\n",
        "    \n",
        "    return model\n",
        "\n",
        "with tpu_strategy.scope(): # creating the model in the TPUStrategy scope means we will train the model on the TPU\n",
        "  model = ncf()\n",
        "model.summary()\n",
        "#https://colab.research.google.com/notebooks/tpu.ipynb#scrollTo=hJl3vNtJOB-x\n",
        "\n",
        "\n",
        "#from: https://github.com/hexiangnan/neural_collaborative_filtering/blob/4aab159e81c44b062c091bdaed0ab54ac632371f/NeuMF.py#L65\n",
        "    # get_model(num_users, num_items, mf_dim=10, layers=[10], reg_layers=[0], reg_mf=0):\n",
        "    # MLP_Embedding_User = Embedding(input_dim = num_users, output_dim = layers[0]/2, name = \"mlp_embedding_user\",\n",
        "    #                               init = init_normal, W_regularizer = l2(reg_layers[0]), input_length=1)\n",
        "    # MLP_Embedding_Item = Embedding(input_dim = num_items, output_dim = layers[0]/2, name = 'mlp_embedding_item',\n",
        "    #                               init = init_normal, W_regularizer = l2(reg_layers[0]), input_length=1)   \n",
        "    # for idx in xrange(1, num_layer):\n",
        "    #     layer = Dense(layers[idx], W_regularizer= l2(reg_layers[idx]), activation='relu', name=\"layer%d\" %idx)\n",
        "    #     mlp_vector = layer(mlp_vector)\n",
        "    #skipping regularization due to compatibility issues\n",
        "#https://github.com/hexiangnan/neural_collaborative_filtering/blob/4aab159e81c44b062c091bdaed0ab54ac632371f/NeuMF.py#L15\n",
        "    # user_input = Input(shape=(1,), dtype='int32', name = 'user_input')\n",
        "    # item_input = Input(shape=(1,), dtype='int32', name = 'item_input')\n",
        "    \n",
        "    # # Embedding layer\n",
        "    # MF_Embedding_User = Embedding(input_dim = num_users, output_dim = mf_dim, name = 'mf_embedding_user',\n",
        "    #                               init = init_normal, W_regularizer = l2(reg_mf), input_length=1)\n",
        "    # MF_Embedding_Item = Embedding(input_dim = num_items, output_dim = mf_dim, name = 'mf_embedding_item',\n",
        "    #                               init = init_normal, W_regularizer = l2(reg_mf), input_length=1)   \n",
        "\n",
        "    # MLP_Embedding_User = Embedding(input_dim = num_users, output_dim = layers[0]/2, name = \"mlp_embedding_user\",\n",
        "    #                               init = init_normal, W_regularizer = l2(reg_layers[0]), input_length=1)\n",
        "    # MLP_Embedding_Item = Embedding(input_dim = num_items, output_dim = layers[0]/2, name = 'mlp_embedding_item',\n",
        "    #                               init = init_normal, W_regularizer = l2(reg_layers[0]), input_length=1)   \n",
        "    \n",
        "    # # MF part\n",
        "    # mf_user_latent = Flatten()(MF_Embedding_User(user_input))\n",
        "    # mf_item_latent = Flatten()(MF_Embedding_Item(item_input))\n",
        "    # mf_vector = merge([mf_user_latent, mf_item_latent], mode = 'mul') # element-wise multiply\n",
        "\n",
        "    # # MLP part \n",
        "    # mlp_user_latent = Flatten()(MLP_Embedding_User(user_input))\n",
        "    # mlp_item_latent = Flatten()(MLP_Embedding_Item(item_input))\n",
        "    # mlp_vector = merge([mlp_user_latent, mlp_item_latent], mode = 'concat')\n",
        "    # for idx in xrange(1, num_layer):\n",
        "    #     layer = Dense(layers[idx], W_regularizer= l2(reg_layers[idx]), activation='relu', name=\"layer%d\" %idx)\n",
        "    #     mlp_vector = layer(mlp_vector)\n",
        "\n",
        "    # # Concatenate MF and MLP parts\n",
        "    # #mf_vector = Lambda(lambda x: x * alpha)(mf_vector)\n",
        "    # #mlp_vector = Lambda(lambda x : x * (1-alpha))(mlp_vector)\n",
        "    # predict_vector = merge([mf_vector, mlp_vector], mode = 'concat')\n",
        "    \n",
        "    # # Final prediction layer\n",
        "    # prediction = Dense(1, activation='sigmoid', init='lecun_uniform', name = \"prediction\")(predict_vector)\n",
        "    \n",
        "    # model = Model(input=[user_input, item_input], output=prediction)\n"
      ],
      "metadata": {
        "colab": {
          "base_uri": "https://localhost:8080/"
        },
        "id": "jSIdbCkdjkVX",
        "outputId": "090fb648-8d49-4e6c-8509-0324eae9aa27"
      },
      "execution_count": 28,
      "outputs": [
        {
          "output_type": "stream",
          "name": "stdout",
          "text": [
            "Model: \"model_11\"\n",
            "__________________________________________________________________________________________________\n",
            " Layer (type)                   Output Shape         Param #     Connected to                     \n",
            "==================================================================================================\n",
            " u_in_mlp (InputLayer)          [(None, 1)]          0           []                               \n",
            "                                                                                                  \n",
            " s_in_mlp (InputLayer)          [(None, 1)]          0           []                               \n",
            "                                                                                                  \n",
            " f_in_mlp (InputLayer)          [(None, 1)]          0           []                               \n",
            "                                                                                                  \n",
            " ud_in_mlp (InputLayer)         [(None, 1)]          0           []                               \n",
            "                                                                                                  \n",
            " cd_in_mlp (InputLayer)         [(None, 1)]          0           []                               \n",
            "                                                                                                  \n",
            " u_emb_mlp (Embedding)          (None, 1, 8)         799176      ['u_in_mlp[0][0]']               \n",
            "                                                                                                  \n",
            " s_emb_mlp (Embedding)          (None, 1, 8)         1264936     ['s_in_mlp[0][0]']               \n",
            "                                                                                                  \n",
            " f_emb_mlp (Embedding)          (None, 1, 8)         799176      ['f_in_mlp[0][0]']               \n",
            "                                                                                                  \n",
            " ud_emb_mlp (Embedding)         (None, 1, 8)         799176      ['ud_in_mlp[0][0]']              \n",
            "                                                                                                  \n",
            " cd_emb_mlp (Embedding)         (None, 1, 8)         799176      ['cd_in_mlp[0][0]']              \n",
            "                                                                                                  \n",
            " concatenate_6 (Concatenate)    (None, 1, 40)        0           ['u_emb_mlp[0][0]',              \n",
            "                                                                  's_emb_mlp[0][0]',              \n",
            "                                                                  'f_emb_mlp[0][0]',              \n",
            "                                                                  'ud_emb_mlp[0][0]',             \n",
            "                                                                  'cd_emb_mlp[0][0]']             \n",
            "                                                                                                  \n",
            " flatten_3 (Flatten)            (None, 40)           0           ['concatenate_6[0][0]']          \n",
            "                                                                                                  \n",
            " dense_35 (Dense)               (None, 1)            41          ['flatten_3[0][0]']              \n",
            "                                                                                                  \n",
            " dense_36 (Dense)               (None, 2)            4           ['dense_35[0][0]']               \n",
            "                                                                                                  \n",
            " dense_37 (Dense)               (None, 3)            9           ['dense_36[0][0]']               \n",
            "                                                                                                  \n",
            " dense_38 (Dense)               (None, 4)            16          ['dense_37[0][0]']               \n",
            "                                                                                                  \n",
            " dense_39 (Dense)               (None, 5)            25          ['dense_38[0][0]']               \n",
            "                                                                                                  \n",
            " dense_40 (Dense)               (None, 6)            36          ['dense_39[0][0]']               \n",
            "                                                                                                  \n",
            " dense_41 (Dense)               (None, 7)            49          ['dense_40[0][0]']               \n",
            "                                                                                                  \n",
            " dense_42 (Dense)               (None, 8)            64          ['dense_41[0][0]']               \n",
            "                                                                                                  \n",
            " dense_43 (Dense)               (None, 9)            81          ['dense_42[0][0]']               \n",
            "                                                                                                  \n",
            " dense_44 (Dense)               (None, 10)           100         ['dense_43[0][0]']               \n",
            "                                                                                                  \n",
            " dense_45 (Dense)               (None, 11)           121         ['dense_44[0][0]']               \n",
            "                                                                                                  \n",
            " dense_46 (Dense)               (None, 12)           144         ['dense_45[0][0]']               \n",
            "                                                                                                  \n",
            " dense_47 (Dense)               (None, 13)           169         ['dense_46[0][0]']               \n",
            "                                                                                                  \n",
            " dense_48 (Dense)               (None, 14)           196         ['dense_47[0][0]']               \n",
            "                                                                                                  \n",
            " u_in_gmf (InputLayer)          [(None, 1)]          0           []                               \n",
            "                                                                                                  \n",
            " s_in_gmf (InputLayer)          [(None, 1)]          0           []                               \n",
            "                                                                                                  \n",
            " f_in_gmf (InputLayer)          [(None, 1)]          0           []                               \n",
            "                                                                                                  \n",
            " ud_in_gmf (InputLayer)         [(None, 1)]          0           []                               \n",
            "                                                                                                  \n",
            " cd_in_gmf (InputLayer)         [(None, 1)]          0           []                               \n",
            "                                                                                                  \n",
            " dense_49 (Dense)               (None, 15)           225         ['dense_48[0][0]']               \n",
            "                                                                                                  \n",
            " u_emb_gmf (Embedding)          (None, 1, 8)         799176      ['u_in_gmf[0][0]']               \n",
            "                                                                                                  \n",
            " s_emb_gmf (Embedding)          (None, 1, 8)         1264936     ['s_in_gmf[0][0]']               \n",
            "                                                                                                  \n",
            " f_emb_gmf (Embedding)          (None, 1, 8)         799176      ['f_in_gmf[0][0]']               \n",
            "                                                                                                  \n",
            " ud_emb_gmf (Embedding)         (None, 1, 8)         799176      ['ud_in_gmf[0][0]']              \n",
            "                                                                                                  \n",
            " cd_emb_gmf (Embedding)         (None, 1, 8)         799176      ['cd_in_gmf[0][0]']              \n",
            "                                                                                                  \n",
            " dense_50 (Dense)               (None, 16)           256         ['dense_49[0][0]']               \n",
            "                                                                                                  \n",
            " multiply_3 (Multiply)          (None, 1, 8)         0           ['u_emb_gmf[0][0]',              \n",
            "                                                                  's_emb_gmf[0][0]',              \n",
            "                                                                  'f_emb_gmf[0][0]',              \n",
            "                                                                  'ud_emb_gmf[0][0]',             \n",
            "                                                                  'cd_emb_gmf[0][0]']             \n",
            "                                                                                                  \n",
            " reshape_3 (Reshape)            (None, 1, 16)        0           ['dense_50[0][0]']               \n",
            "                                                                                                  \n",
            " concatenate_7 (Concatenate)    (None, 1, 24)        0           ['multiply_3[0][0]',             \n",
            "                                                                  'reshape_3[0][0]']              \n",
            "                                                                                                  \n",
            " dense_51 (Dense)               (None, 1, 1)         25          ['concatenate_7[0][0]']          \n",
            "                                                                                                  \n",
            " activation_3 (Activation)      (None, 1, 1)         0           ['dense_51[0][0]']               \n",
            "                                                                                                  \n",
            "==================================================================================================\n",
            "Total params: 8,924,841\n",
            "Trainable params: 8,924,841\n",
            "Non-trainable params: 0\n",
            "__________________________________________________________________________________________________\n"
          ]
        }
      ]
    },
    {
      "cell_type": "code",
      "source": [
        "# Model training\n",
        "batch_size = 10000\n",
        "history = model.fit(\n",
        "    x=[X_train_array,X_train_array],\n",
        "    y=[y_train,y_train],\n",
        "    batch_size=batch_size,\n",
        "    epochs=20,\n",
        "    verbose=1,\n",
        "    validation_data=([X_val_array, X_val_array], [y_val, y_val])\n",
        ")\n",
        "\n",
        "model.save_weights('NCF_with_meta.h5')"
      ],
      "metadata": {
        "colab": {
          "base_uri": "https://localhost:8080/"
        },
        "id": "7YnLr5gYkN_d",
        "outputId": "f9d9dac5-df93-406b-feb7-adafc4c0af5f"
      },
      "execution_count": 29,
      "outputs": [
        {
          "output_type": "stream",
          "name": "stdout",
          "text": [
            "Epoch 1/20\n",
            "142/142 [==============================] - 21s 84ms/step - loss: 0.0955 - root_mean_squared_error: 0.3090 - val_loss: 0.0808 - val_root_mean_squared_error: 0.2843\n",
            "Epoch 2/20\n",
            "142/142 [==============================] - 9s 61ms/step - loss: 0.0689 - root_mean_squared_error: 0.2625 - val_loss: 0.0589 - val_root_mean_squared_error: 0.2427\n",
            "Epoch 3/20\n",
            "142/142 [==============================] - 8s 59ms/step - loss: 0.0508 - root_mean_squared_error: 0.2255 - val_loss: 0.0441 - val_root_mean_squared_error: 0.2100\n",
            "Epoch 4/20\n",
            "142/142 [==============================] - 8s 59ms/step - loss: 0.0386 - root_mean_squared_error: 0.1964 - val_loss: 0.0339 - val_root_mean_squared_error: 0.1842\n",
            "Epoch 5/20\n",
            "142/142 [==============================] - 8s 60ms/step - loss: 0.0301 - root_mean_squared_error: 0.1734 - val_loss: 0.0268 - val_root_mean_squared_error: 0.1637\n",
            "Epoch 6/20\n",
            "142/142 [==============================] - 9s 60ms/step - loss: 0.0241 - root_mean_squared_error: 0.1551 - val_loss: 0.0217 - val_root_mean_squared_error: 0.1472\n",
            "Epoch 7/20\n",
            "142/142 [==============================] - 9s 60ms/step - loss: 0.0197 - root_mean_squared_error: 0.1404 - val_loss: 0.0180 - val_root_mean_squared_error: 0.1340\n",
            "Epoch 8/20\n",
            "142/142 [==============================] - 9s 60ms/step - loss: 0.0165 - root_mean_squared_error: 0.1286 - val_loss: 0.0152 - val_root_mean_squared_error: 0.1232\n",
            "Epoch 9/20\n",
            "142/142 [==============================] - 8s 59ms/step - loss: 0.0141 - root_mean_squared_error: 0.1189 - val_loss: 0.0131 - val_root_mean_squared_error: 0.1143\n",
            "Epoch 10/20\n",
            "142/142 [==============================] - 8s 59ms/step - loss: 0.0123 - root_mean_squared_error: 0.1110 - val_loss: 0.0115 - val_root_mean_squared_error: 0.1070\n",
            "Epoch 11/20\n",
            "142/142 [==============================] - 8s 59ms/step - loss: 0.0109 - root_mean_squared_error: 0.1044 - val_loss: 0.0102 - val_root_mean_squared_error: 0.1009\n",
            "Epoch 12/20\n",
            "142/142 [==============================] - 8s 59ms/step - loss: 0.0098 - root_mean_squared_error: 0.0989 - val_loss: 0.0092 - val_root_mean_squared_error: 0.0958\n",
            "Epoch 13/20\n",
            "142/142 [==============================] - 8s 59ms/step - loss: 0.0089 - root_mean_squared_error: 0.0944 - val_loss: 0.0084 - val_root_mean_squared_error: 0.0916\n",
            "Epoch 14/20\n",
            "142/142 [==============================] - 8s 59ms/step - loss: 0.0082 - root_mean_squared_error: 0.0906 - val_loss: 0.0077 - val_root_mean_squared_error: 0.0880\n",
            "Epoch 15/20\n",
            "142/142 [==============================] - 8s 59ms/step - loss: 0.0076 - root_mean_squared_error: 0.0874 - val_loss: 0.0072 - val_root_mean_squared_error: 0.0849\n",
            "Epoch 16/20\n",
            "142/142 [==============================] - 8s 59ms/step - loss: 0.0072 - root_mean_squared_error: 0.0847 - val_loss: 0.0068 - val_root_mean_squared_error: 0.0824\n",
            "Epoch 17/20\n",
            "142/142 [==============================] - 8s 58ms/step - loss: 0.0068 - root_mean_squared_error: 0.0824 - val_loss: 0.0064 - val_root_mean_squared_error: 0.0802\n",
            "Epoch 18/20\n",
            "142/142 [==============================] - 8s 58ms/step - loss: 0.0065 - root_mean_squared_error: 0.0804 - val_loss: 0.0061 - val_root_mean_squared_error: 0.0783\n",
            "Epoch 19/20\n",
            "142/142 [==============================] - 8s 59ms/step - loss: 0.0062 - root_mean_squared_error: 0.0788 - val_loss: 0.0059 - val_root_mean_squared_error: 0.0767\n",
            "Epoch 20/20\n",
            "142/142 [==============================] - 8s 59ms/step - loss: 0.0060 - root_mean_squared_error: 0.0774 - val_loss: 0.0057 - val_root_mean_squared_error: 0.0754\n"
          ]
        }
      ]
    },
    {
      "cell_type": "code",
      "source": [
        "pred_input = [test_in_u, test_in_s, test_in_f, test_in_ud, test_in_cd]\n",
        "test_pred = model.predict_on_batch([pred_input,pred_input])\n",
        "test_pred\n"
      ],
      "metadata": {
        "colab": {
          "base_uri": "https://localhost:8080/"
        },
        "id": "65Kch9KnhYM_",
        "outputId": "961b3d78-a364-48e5-f4a9-a29db43752fd"
      },
      "execution_count": 30,
      "outputs": [
        {
          "output_type": "execute_result",
          "data": {
            "text/plain": [
              "array([[[0.20654774]],\n",
              "\n",
              "       [[0.20654774]],\n",
              "\n",
              "       [[0.20654774]],\n",
              "\n",
              "       ...,\n",
              "\n",
              "       [[0.20654774]],\n",
              "\n",
              "       [[0.20654774]],\n",
              "\n",
              "       [[0.20654774]]], dtype=float32)"
            ]
          },
          "metadata": {},
          "execution_count": 30
        }
      ]
    },
    {
      "cell_type": "code",
      "source": [
        "import matplotlib.pyplot as plt\n",
        "%matplotlib inline\n",
        "\n",
        "plt.plot(history.history[\"loss\"][0:-2])\n",
        "plt.plot(history.history[\"root_mean_squared_error\"][0:-2])\n",
        "plt.title(\"MSE Loss, RMSE\")\n",
        "plt.ylabel(\"Loss\")\n",
        "plt.xlabel(\"epoch\")\n",
        "plt.legend([\"MSE Loss\", \"RMSE\"], loc=\"center\")\n",
        "plt.show()"
      ],
      "metadata": {
        "colab": {
          "base_uri": "https://localhost:8080/",
          "height": 295
        },
        "id": "gTDWZNG3n1Ef",
        "outputId": "287d5412-656e-433e-aa2b-7f88e735b852"
      },
      "execution_count": 31,
      "outputs": [
        {
          "output_type": "display_data",
          "data": {
            "text/plain": [
              "<Figure size 432x288 with 1 Axes>"
            ],
            "image/png": "[encoded data removed]"
          },
          "metadata": {
            "needs_background": "light"
          }
        }
      ]
    },
    {
      "cell_type": "code",
      "source": [
        "final_RMSE = (history.history['root_mean_squared_error'])[-1]\n",
        "final_RMSE"
      ],
      "metadata": {
        "colab": {
          "base_uri": "https://localhost:8080/"
        },
        "id": "-w3iQ28com6X",
        "outputId": "b90740f1-6a3a-4ba1-fcf7-33fc118172ec"
      },
      "execution_count": 32,
      "outputs": [
        {
          "output_type": "execute_result",
          "data": {
            "text/plain": [
              "0.07738456130027771"
            ]
          },
          "metadata": {},
          "execution_count": 32
        }
      ]
    },
    {
      "cell_type": "code",
      "source": [
        "#https://stackoverflow.com/questions/17197492/is-there-a-library-function-for-root-mean-square-error-rmse-in-python\n",
        "from sklearn.metrics import mean_squared_error\n",
        "\n",
        "#rms = mean_squared_error(y_actual, y_predicted, squared=False)\n",
        "rms = mean_squared_error(test_rating.to_numpy(), test_pred.reshape((len(test_pred),)), squared=False)\n",
        "rms\n",
        "#no regulizar 0.2753604126884709\n",
        "#with regulizer 0.2750856447278888\n",
        "#with meta normalization 0.27519455599609355\n",
        "#larger embed16 0.27563276438881557"
      ],
      "metadata": {
        "id": "4TxmTEtQq7ko",
        "colab": {
          "base_uri": "https://localhost:8080/"
        },
        "outputId": "180457ad-edaf-4082-d91b-d53232cd1bdc"
      },
      "execution_count": 33,
      "outputs": [
        {
          "output_type": "execute_result",
          "data": {
            "text/plain": [
              "0.27563276438881557"
            ]
          },
          "metadata": {},
          "execution_count": 33
        }
      ]
    }
  ]
}