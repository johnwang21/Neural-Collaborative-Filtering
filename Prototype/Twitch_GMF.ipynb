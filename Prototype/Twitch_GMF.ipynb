{
  "nbformat": 4,
  "nbformat_minor": 0,
  "metadata": {
    "colab": {
      "provenance": [],
      "machine_shape": "hm"
    },
    "kernelspec": {
      "name": "python3",
      "display_name": "Python 3"
    },
    "language_info": {
      "name": "python"
    },
    "accelerator": "TPU",
    "gpuClass": "standard"
  },
  "cells": [
    {
      "cell_type": "code",
      "source": [
        "import pandas as pd\n",
        "import numpy as np\n",
        "from tqdm.notebook import tqdm\n",
        "from sklearn.model_selection import train_test_split\n",
        "import keras\n",
        "from keras import layers \n",
        "import tensorflow as tf\n",
        "from keras.models import Model\n",
        "from keras.optimizers import Adam"
      ],
      "metadata": {
        "id": "0riOOnaIIPyL"
      },
      "execution_count": null,
      "outputs": []
    },
    {
      "cell_type": "code",
      "source": [
        "print(\"Tensorflow version \" + tf.__version__)\n",
        "\n",
        "try:\n",
        "  tpu = tf.distribute.cluster_resolver.TPUClusterResolver()  # TPU detection\n",
        "  print('Running on TPU ', tpu.cluster_spec().as_dict()['worker'])\n",
        "except ValueError:\n",
        "  raise BaseException('ERROR: Not connected to a TPU runtime; please see the previous cell in this notebook for instructions!')\n",
        "\n",
        "tf.config.experimental_connect_to_cluster(tpu)\n",
        "tf.tpu.experimental.initialize_tpu_system(tpu)\n",
        "tpu_strategy = tf.distribute.experimental.TPUStrategy(tpu)"
      ],
      "metadata": {
        "colab": {
          "base_uri": "https://localhost:8080/"
        },
        "id": "1K3YPwY9YD5V",
        "outputId": "15c7bf1b-1437-4b49-a910-3abdf6d82e0c"
      },
      "execution_count": null,
      "outputs": [
        {
          "output_type": "stream",
          "name": "stdout",
          "text": [
            "Tensorflow version 2.9.2\n",
            "Running on TPU  ['10.37.210.50:8470']\n"
          ]
        },
        {
          "output_type": "stream",
          "name": "stderr",
          "text": [
            "WARNING:absl:`tf.distribute.experimental.TPUStrategy` is deprecated, please use  the non experimental symbol `tf.distribute.TPUStrategy` instead.\n"
          ]
        }
      ]
    },
    {
      "cell_type": "code",
      "source": [
        "#proof of concept ran on older normalized data set\n",
        "rating_df = pd.read_csv('train_streamID.csv')\n",
        "rating_df = rating_df.rename(columns={'UserID':'u_id','StreamID':'s_id','Rating':'rate'})\n",
        "rating_df.head()"
      ],
      "metadata": {
        "colab": {
          "base_uri": "https://localhost:8080/",
          "height": 206
        },
        "id": "d7sw3eHgIQ7t",
        "outputId": "c9e65799-de68-48d6-b388-74a2ea8717c6"
      },
      "execution_count": null,
      "outputs": [
        {
          "output_type": "execute_result",
          "data": {
            "text/plain": [
              "   u_id         s_id      rate\n",
              "0     1  33846768288  2.014098\n",
              "1     1  33887624992  1.000000\n",
              "2     1  33890145056  2.014098\n",
              "3     1  33903958784  2.014098\n",
              "4     1  33929318864  9.993371"
            ],
            "text/html": [
              "\n",
              "  <div id=\"df-729f5457-e0b7-4f2a-b7a9-2d056e6830b9\">\n",
              "    <div class=\"colab-df-container\">\n",
              "      <div>\n",
              "<style scoped>\n",
              "    .dataframe tbody tr th:only-of-type {\n",
              "        vertical-align: middle;\n",
              "    }\n",
              "\n",
              "    .dataframe tbody tr th {\n",
              "        vertical-align: top;\n",
              "    }\n",
              "\n",
              "    .dataframe thead th {\n",
              "        text-align: right;\n",
              "    }\n",
              "</style>\n",
              "<table border=\"1\" class=\"dataframe\">\n",
              "  <thead>\n",
              "    <tr style=\"text-align: right;\">\n",
              "      <th></th>\n",
              "      <th>u_id</th>\n",
              "      <th>s_id</th>\n",
              "      <th>rate</th>\n",
              "    </tr>\n",
              "  </thead>\n",
              "  <tbody>\n",
              "    <tr>\n",
              "      <th>0</th>\n",
              "      <td>1</td>\n",
              "      <td>33846768288</td>\n",
              "      <td>2.014098</td>\n",
              "    </tr>\n",
              "    <tr>\n",
              "      <th>1</th>\n",
              "      <td>1</td>\n",
              "      <td>33887624992</td>\n",
              "      <td>1.000000</td>\n",
              "    </tr>\n",
              "    <tr>\n",
              "      <th>2</th>\n",
              "      <td>1</td>\n",
              "      <td>33890145056</td>\n",
              "      <td>2.014098</td>\n",
              "    </tr>\n",
              "    <tr>\n",
              "      <th>3</th>\n",
              "      <td>1</td>\n",
              "      <td>33903958784</td>\n",
              "      <td>2.014098</td>\n",
              "    </tr>\n",
              "    <tr>\n",
              "      <th>4</th>\n",
              "      <td>1</td>\n",
              "      <td>33929318864</td>\n",
              "      <td>9.993371</td>\n",
              "    </tr>\n",
              "  </tbody>\n",
              "</table>\n",
              "</div>\n",
              "      <button class=\"colab-df-convert\" onclick=\"convertToInteractive('df-729f5457-e0b7-4f2a-b7a9-2d056e6830b9')\"\n",
              "              title=\"Convert this dataframe to an interactive table.\"\n",
              "              style=\"display:none;\">\n",
              "        \n",
              "  <svg xmlns=\"http://www.w3.org/2000/svg\" height=\"24px\"viewBox=\"0 0 24 24\"\n",
              "       width=\"24px\">\n",
              "    <path d=\"M0 0h24v24H0V0z\" fill=\"none\"/>\n",
              "    <path d=\"M18.56 5.44l.94 2.06.94-2.06 2.06-.94-2.06-.94-.94-2.06-.94 2.06-2.06.94zm-11 1L8.5 8.5l.94-2.06 2.06-.94-2.06-.94L8.5 2.5l-.94 2.06-2.06.94zm10 10l.94 2.06.94-2.06 2.06-.94-2.06-.94-.94-2.06-.94 2.06-2.06.94z\"/><path d=\"M17.41 7.96l-1.37-1.37c-.4-.4-.92-.59-1.43-.59-.52 0-1.04.2-1.43.59L10.3 9.45l-7.72 7.72c-.78.78-.78 2.05 0 2.83L4 21.41c.39.39.9.59 1.41.59.51 0 1.02-.2 1.41-.59l7.78-7.78 2.81-2.81c.8-.78.8-2.07 0-2.86zM5.41 20L4 18.59l7.72-7.72 1.47 1.35L5.41 20z\"/>\n",
              "  </svg>\n",
              "      </button>\n",
              "      \n",
              "  <style>\n",
              "    .colab-df-container {\n",
              "      display:flex;\n",
              "      flex-wrap:wrap;\n",
              "      gap: 12px;\n",
              "    }\n",
              "\n",
              "    .colab-df-convert {\n",
              "      background-color: #E8F0FE;\n",
              "      border: none;\n",
              "      border-radius: 50%;\n",
              "      cursor: pointer;\n",
              "      display: none;\n",
              "      fill: #1967D2;\n",
              "      height: 32px;\n",
              "      padding: 0 0 0 0;\n",
              "      width: 32px;\n",
              "    }\n",
              "\n",
              "    .colab-df-convert:hover {\n",
              "      background-color: #E2EBFA;\n",
              "      box-shadow: 0px 1px 2px rgba(60, 64, 67, 0.3), 0px 1px 3px 1px rgba(60, 64, 67, 0.15);\n",
              "      fill: #174EA6;\n",
              "    }\n",
              "\n",
              "    [theme=dark] .colab-df-convert {\n",
              "      background-color: #3B4455;\n",
              "      fill: #D2E3FC;\n",
              "    }\n",
              "\n",
              "    [theme=dark] .colab-df-convert:hover {\n",
              "      background-color: #434B5C;\n",
              "      box-shadow: 0px 1px 3px 1px rgba(0, 0, 0, 0.15);\n",
              "      filter: drop-shadow(0px 1px 2px rgba(0, 0, 0, 0.3));\n",
              "      fill: #FFFFFF;\n",
              "    }\n",
              "  </style>\n",
              "\n",
              "      <script>\n",
              "        const buttonEl =\n",
              "          document.querySelector('#df-729f5457-e0b7-4f2a-b7a9-2d056e6830b9 button.colab-df-convert');\n",
              "        buttonEl.style.display =\n",
              "          google.colab.kernel.accessAllowed ? 'block' : 'none';\n",
              "\n",
              "        async function convertToInteractive(key) {\n",
              "          const element = document.querySelector('#df-729f5457-e0b7-4f2a-b7a9-2d056e6830b9');\n",
              "          const dataTable =\n",
              "            await google.colab.kernel.invokeFunction('convertToInteractive',\n",
              "                                                     [key], {});\n",
              "          if (!dataTable) return;\n",
              "\n",
              "          const docLinkHtml = 'Like what you see? Visit the ' +\n",
              "            '<a target=\"_blank\" href=https://colab.research.google.com/notebooks/data_table.ipynb>data table notebook</a>'\n",
              "            + ' to learn more about interactive tables.';\n",
              "          element.innerHTML = '';\n",
              "          dataTable['output_type'] = 'display_data';\n",
              "          await google.colab.output.renderOutput(dataTable, element);\n",
              "          const docLink = document.createElement('div');\n",
              "          docLink.innerHTML = docLinkHtml;\n",
              "          element.appendChild(docLink);\n",
              "        }\n",
              "      </script>\n",
              "    </div>\n",
              "  </div>\n",
              "  "
            ]
          },
          "metadata": {},
          "execution_count": 47
        }
      ]
    },
    {
      "cell_type": "code",
      "source": [
        "# Model requires see\n",
        "rating_df = rating_df.sample(frac=1, random_state=73)\n",
        "\n",
        "X = rating_df[['u_id', 's_id']].values\n",
        "y = rating_df[\"rate\"]"
      ],
      "metadata": {
        "id": "SL4Bs9o6iTuZ"
      },
      "execution_count": null,
      "outputs": []
    },
    {
      "cell_type": "code",
      "source": [
        "# this says test and train but is really train and validation\n",
        "#lifted this from: https://www.kaggle.com/code/chaitanya99/recommendation-system-cf-anime\n",
        "test_set_size = 10000 #10k for test set\n",
        "train_indices = rating_df.shape[0] - test_set_size \n",
        "\n",
        "X_train, X_test, y_train, y_test = (\n",
        "    X[:train_indices],\n",
        "    X[train_indices:],\n",
        "    y[:train_indices],\n",
        "    y[train_indices:],\n",
        ")\n",
        "\n",
        "print('> Train set ratings: {}'.format(len(y_train)))\n",
        "print('> Test set ratings: {}'.format(len(y_test)))"
      ],
      "metadata": {
        "id": "x0qKtQswiWyZ",
        "outputId": "e38a6f63-c112-4ba7-a858-27e27f787c01",
        "colab": {
          "base_uri": "https://localhost:8080/"
        }
      },
      "execution_count": null,
      "outputs": [
        {
          "output_type": "stream",
          "name": "stdout",
          "text": [
            "> Train set ratings: 1481841\n",
            "> Test set ratings: 10000\n"
          ]
        }
      ]
    },
    {
      "cell_type": "code",
      "source": [
        "X_train_array = [X_train[:, 0], X_train[:, 1]]\n",
        "X_test_array = [X_test[:, 0], X_test[:, 1]]"
      ],
      "metadata": {
        "id": "QyGHTM4NiYpx"
      },
      "execution_count": null,
      "outputs": []
    },
    {
      "cell_type": "code",
      "source": [
        "#from: https://github.com/hexiangnan/neural_collaborative_filtering/blob/4aab159e81c44b062c091bdaed0ab54ac632371f/NeuMF.py#L158\n",
        "in_u_dim = len(rating_df[\"u_id\"].unique())\n",
        "in_s_dim = len(rating_df[\"s_id\"].unique())\n",
        " \n",
        "latent_out_dim = 8 #embedding size\n",
        "# Embedding(input_dim = num_items\n",
        "# num_users, num_items = train.shape\n",
        "# output_dim = mf_dim\n",
        "# mf = 10"
      ],
      "metadata": {
        "id": "YXucb6SOx8Dp"
      },
      "execution_count": null,
      "outputs": []
    },
    {
      "cell_type": "code",
      "source": [
        "# Embedding layers\n",
        "from keras.layers import Add, Activation, Lambda, BatchNormalization, Concatenate, Dropout, Input, Embedding, Dot, Reshape, Dense, Flatten\n",
        "\n",
        "def GMFact():\n",
        "    \n",
        "    user = Input(name = 'u_in', shape = [1])\n",
        "    user_embedding = Embedding(name = 'u_emb',\n",
        "                       input_dim = in_u_dim, \n",
        "                       output_dim = latent_out_dim)(user)\n",
        "    \n",
        "    stream = Input(name = 's_in', shape = [1])\n",
        "    stream_embedding = Embedding(name = 's_emb',\n",
        "                       input_dim = in_s_dim, \n",
        "                       output_dim = latent_out_dim)(stream)\n",
        "    \n",
        "    #https://datascience.stackexchange.com/questions/56110/what-is-the-difference-between-multiply-and-dot-functions-that-is-used-to-merge\n",
        "    x = tf.keras.layers.multiply()([user_embedding, stream_embedding])\n",
        "    x = Flatten()(x)\n",
        "        \n",
        "    x = Dense(1, kernel_initializer='lecun_uniform')(x)\n",
        "    x = Activation(\"sigmoid\")(x)\n",
        "    \n",
        "    model = Model(inputs=[user, stream], outputs=x)\n",
        "    model.compile(\n",
        "      optimizer='sgd',\n",
        "      loss='mse',\n",
        "      metrics=[tf.keras.metrics.RootMeanSquaredError()])\n",
        "      #https://www.tensorflow.org/api_docs/python/tf/keras/metrics/RootMeanSquaredError\n",
        "    \n",
        "    return model\n",
        "\n",
        "with tpu_strategy.scope(): # creating the model in the TPUStrategy scope means we will train the model on the TPU\n",
        "  model = GMFact()\n",
        "model.summary()\n",
        "#https://colab.research.google.com/notebooks/tpu.ipynb#scrollTo=hJl3vNtJOB-x\n"
      ],
      "metadata": {
        "colab": {
          "base_uri": "https://localhost:8080/"
        },
        "id": "jSIdbCkdjkVX",
        "outputId": "d4ebd387-0fb4-4a81-ec19-caee5446e6cb"
      },
      "execution_count": null,
      "outputs": [
        {
          "output_type": "stream",
          "name": "stdout",
          "text": [
            "Model: \"model_8\"\n",
            "__________________________________________________________________________________________________\n",
            " Layer (type)                   Output Shape         Param #     Connected to                     \n",
            "==================================================================================================\n",
            " u_in (InputLayer)              [(None, 1)]          0           []                               \n",
            "                                                                                                  \n",
            " s_in (InputLayer)              [(None, 1)]          0           []                               \n",
            "                                                                                                  \n",
            " u_emb (Embedding)              (None, 1, 8)         775368      ['u_in[0][0]']                   \n",
            "                                                                                                  \n",
            " s_emb (Embedding)              (None, 1, 8)         3586200     ['s_in[0][0]']                   \n",
            "                                                                                                  \n",
            " multiply (Dot)                 (None, 1, 1)         0           ['u_emb[0][0]',                  \n",
            "                                                                  's_emb[0][0]']                  \n",
            "                                                                                                  \n",
            " flatten_8 (Flatten)            (None, 1)            0           ['multiply[0][0]']               \n",
            "                                                                                                  \n",
            " dense_8 (Dense)                (None, 1)            2           ['flatten_8[0][0]']              \n",
            "                                                                                                  \n",
            " activation_8 (Activation)      (None, 1)            0           ['dense_8[0][0]']                \n",
            "                                                                                                  \n",
            "==================================================================================================\n",
            "Total params: 4,361,570\n",
            "Trainable params: 4,361,570\n",
            "Non-trainable params: 0\n",
            "__________________________________________________________________________________________________\n"
          ]
        }
      ]
    },
    {
      "cell_type": "markdown",
      "source": [],
      "metadata": {
        "id": "fSH_Bzerj47E"
      }
    },
    {
      "cell_type": "code",
      "source": [
        "# Model training\n",
        "batch_size = 10000\n",
        "history = model.fit(\n",
        "    x=X_train_array,\n",
        "    y=y_train,\n",
        "    batch_size=batch_size,\n",
        "    epochs=20,\n",
        "    verbose=1,\n",
        "    validation_data=(X_test_array, y_test)\n",
        ")\n",
        "\n",
        "model.save_weights('gmf.h5')"
      ],
      "metadata": {
        "colab": {
          "base_uri": "https://localhost:8080/"
        },
        "id": "7YnLr5gYkN_d",
        "outputId": "d848c6d0-608f-450d-f269-b3fc31fd69ca"
      },
      "execution_count": null,
      "outputs": [
        {
          "output_type": "stream",
          "name": "stdout",
          "text": [
            "Epoch 1/20\n",
            "149/149 [==============================] - 8s 32ms/step - loss: 15.0358 - root_mean_squared_error: 3.8776 - val_loss: 14.3081 - val_root_mean_squared_error: 3.7826\n",
            "Epoch 2/20\n",
            "149/149 [==============================] - 4s 24ms/step - loss: 14.0717 - root_mean_squared_error: 3.7512 - val_loss: 13.8900 - val_root_mean_squared_error: 3.7269\n",
            "Epoch 3/20\n",
            "149/149 [==============================] - 4s 23ms/step - loss: 13.8223 - root_mean_squared_error: 3.7178 - val_loss: 13.7434 - val_root_mean_squared_error: 3.7072\n",
            "Epoch 4/20\n",
            "149/149 [==============================] - 4s 24ms/step - loss: 13.7200 - root_mean_squared_error: 3.7040 - val_loss: 13.6717 - val_root_mean_squared_error: 3.6975\n",
            "Epoch 5/20\n",
            "149/149 [==============================] - 3s 23ms/step - loss: 13.6652 - root_mean_squared_error: 3.6967 - val_loss: 13.6297 - val_root_mean_squared_error: 3.6918\n",
            "Epoch 6/20\n",
            "149/149 [==============================] - 4s 24ms/step - loss: 13.6315 - root_mean_squared_error: 3.6921 - val_loss: 13.6023 - val_root_mean_squared_error: 3.6881\n",
            "Epoch 7/20\n",
            "149/149 [==============================] - 4s 24ms/step - loss: 13.6087 - root_mean_squared_error: 3.6890 - val_loss: 13.5831 - val_root_mean_squared_error: 3.6855\n",
            "Epoch 8/20\n",
            "149/149 [==============================] - 4s 23ms/step - loss: 13.5922 - root_mean_squared_error: 3.6868 - val_loss: 13.5689 - val_root_mean_squared_error: 3.6836\n",
            "Epoch 9/20\n",
            "149/149 [==============================] - 4s 24ms/step - loss: 13.5799 - root_mean_squared_error: 3.6851 - val_loss: 13.5580 - val_root_mean_squared_error: 3.6821\n",
            "Epoch 10/20\n",
            "149/149 [==============================] - 4s 23ms/step - loss: 13.5702 - root_mean_squared_error: 3.6838 - val_loss: 13.5494 - val_root_mean_squared_error: 3.6809\n",
            "Epoch 11/20\n",
            "149/149 [==============================] - 4s 24ms/step - loss: 13.5625 - root_mean_squared_error: 3.6827 - val_loss: 13.5423 - val_root_mean_squared_error: 3.6800\n",
            "Epoch 12/20\n",
            "149/149 [==============================] - 4s 24ms/step - loss: 13.5561 - root_mean_squared_error: 3.6819 - val_loss: 13.5365 - val_root_mean_squared_error: 3.6792\n",
            "Epoch 13/20\n",
            "149/149 [==============================] - 4s 24ms/step - loss: 13.5509 - root_mean_squared_error: 3.6811 - val_loss: 13.5317 - val_root_mean_squared_error: 3.6786\n",
            "Epoch 14/20\n",
            "149/149 [==============================] - 4s 23ms/step - loss: 13.5464 - root_mean_squared_error: 3.6805 - val_loss: 13.5276 - val_root_mean_squared_error: 3.6780\n",
            "Epoch 15/20\n",
            "149/149 [==============================] - 4s 24ms/step - loss: 13.5426 - root_mean_squared_error: 3.6800 - val_loss: 13.5240 - val_root_mean_squared_error: 3.6775\n",
            "Epoch 16/20\n",
            "149/149 [==============================] - 4s 24ms/step - loss: 13.5393 - root_mean_squared_error: 3.6796 - val_loss: 13.5209 - val_root_mean_squared_error: 3.6771\n",
            "Epoch 17/20\n",
            "149/149 [==============================] - 4s 24ms/step - loss: 13.5364 - root_mean_squared_error: 3.6792 - val_loss: 13.5181 - val_root_mean_squared_error: 3.6767\n",
            "Epoch 18/20\n",
            "149/149 [==============================] - 4s 24ms/step - loss: 13.5338 - root_mean_squared_error: 3.6788 - val_loss: 13.5157 - val_root_mean_squared_error: 3.6764\n",
            "Epoch 19/20\n",
            "149/149 [==============================] - 4s 24ms/step - loss: 13.5315 - root_mean_squared_error: 3.6785 - val_loss: 13.5135 - val_root_mean_squared_error: 3.6761\n",
            "Epoch 20/20\n",
            "149/149 [==============================] - 4s 23ms/step - loss: 13.5295 - root_mean_squared_error: 3.6782 - val_loss: 13.5116 - val_root_mean_squared_error: 3.6758\n"
          ]
        }
      ]
    },
    {
      "cell_type": "code",
      "source": [
        "model.predict_on_batch([rating_df.iloc[:,0].to_numpy(), rating_df.iloc[:,1].to_numpy()])\n"
      ],
      "metadata": {
        "colab": {
          "base_uri": "https://localhost:8080/"
        },
        "id": "65Kch9KnhYM_",
        "outputId": "17f459b4-01f0-4b2f-8943-175222c281e6"
      },
      "execution_count": null,
      "outputs": [
        {
          "output_type": "execute_result",
          "data": {
            "text/plain": [
              "array([[0.99292076],\n",
              "       [0.99294746],\n",
              "       [0.99313176],\n",
              "       ...,\n",
              "       [0.99240553],\n",
              "       [0.9926664 ],\n",
              "       [0.9919225 ]], dtype=float32)"
            ]
          },
          "metadata": {},
          "execution_count": 33
        }
      ]
    },
    {
      "cell_type": "code",
      "source": [
        "import matplotlib.pyplot as plt\n",
        "%matplotlib inline\n",
        "\n",
        "plt.plot(history.history[\"loss\"][0:-2])\n",
        "plt.plot(history.history[\"root_mean_squared_error\"][0:-2])\n",
        "plt.title(\"MSE Loss, RMSE\")\n",
        "plt.ylabel(\"Loss\")\n",
        "plt.xlabel(\"epoch\")\n",
        "plt.legend([\"MSE Loss\", \"RMSE\"], loc=\"center\")\n",
        "plt.show()"
      ],
      "metadata": {
        "colab": {
          "base_uri": "https://localhost:8080/",
          "height": 295
        },
        "id": "gTDWZNG3n1Ef",
        "outputId": "2794b914-008c-41e4-8995-a8c7e94823ac"
      },
      "execution_count": null,
      "outputs": [
        {
          "output_type": "display_data",
          "data": {
            "text/plain": [
              "<Figure size 432x288 with 1 Axes>"
            ],
            "image/png": "[encoded data removed]"
          },
          "metadata": {
            "needs_background": "light"
          }
        }
      ]
    },
    {
      "cell_type": "code",
      "source": [
        "final_RMSE = (history.history['root_mean_squared_error'])[-1]\n",
        "final_RMSE"
      ],
      "metadata": {
        "colab": {
          "base_uri": "https://localhost:8080/"
        },
        "id": "-w3iQ28com6X",
        "outputId": "76362f50-8f8c-42d5-f0c3-077d2779663c"
      },
      "execution_count": null,
      "outputs": [
        {
          "output_type": "execute_result",
          "data": {
            "text/plain": [
              "3.678248643875122"
            ]
          },
          "metadata": {},
          "execution_count": 46
        }
      ]
    },
    {
      "cell_type": "code",
      "source": [
        "#https://stackoverflow.com/questions/17197492/is-there-a-library-function-for-root-mean-square-error-rmse-in-python\n",
        "from sklearn.metrics import mean_squared_error\n",
        "\n",
        "rms = mean_squared_error(y_actual, y_predicted, squared=False)"
      ],
      "metadata": {
        "id": "4TxmTEtQq7ko"
      },
      "execution_count": null,
      "outputs": []
    }
  ]
}