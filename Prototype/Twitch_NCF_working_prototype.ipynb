{
  "nbformat": 4,
  "nbformat_minor": 0,
  "metadata": {
    "colab": {
      "provenance": [],
      "machine_shape": "hm"
    },
    "kernelspec": {
      "name": "python3",
      "display_name": "Python 3"
    },
    "language_info": {
      "name": "python"
    },
    "accelerator": "TPU",
    "gpuClass": "standard"
  },
  "cells": [
    {
      "cell_type": "code",
      "source": [
        "import pandas as pd\n",
        "import numpy as np\n",
        "from tqdm.notebook import tqdm\n",
        "from sklearn.model_selection import train_test_split\n",
        "import keras\n",
        "from keras import layers \n",
        "import tensorflow as tf\n",
        "from keras.models import Model\n",
        "from keras.optimizers import Adam, SGD"
      ],
      "metadata": {
        "id": "0riOOnaIIPyL"
      },
      "execution_count": null,
      "outputs": []
    },
    {
      "cell_type": "code",
      "source": [
        "print(\"Tensorflow version \" + tf.__version__)\n",
        "\n",
        "try:\n",
        "  tpu = tf.distribute.cluster_resolver.TPUClusterResolver()  # TPU detection\n",
        "  print('Running on TPU ', tpu.cluster_spec().as_dict()['worker'])\n",
        "except ValueError:\n",
        "  raise BaseException('ERROR: Not connected to a TPU runtime; please see the previous cell in this notebook for instructions!')\n",
        "\n",
        "tf.config.experimental_connect_to_cluster(tpu)\n",
        "tf.tpu.experimental.initialize_tpu_system(tpu)\n",
        "tpu_strategy = tf.distribute.experimental.TPUStrategy(tpu)"
      ],
      "metadata": {
        "colab": {
          "base_uri": "https://localhost:8080/"
        },
        "id": "1K3YPwY9YD5V",
        "outputId": "370cd09b-3029-4058-d0fb-6e1f52afe5b3"
      },
      "execution_count": null,
      "outputs": [
        {
          "output_type": "stream",
          "name": "stdout",
          "text": [
            "Tensorflow version 2.9.2\n",
            "Running on TPU  ['10.125.236.146:8470']\n"
          ]
        },
        {
          "output_type": "stream",
          "name": "stderr",
          "text": [
            "WARNING:absl:`tf.distribute.experimental.TPUStrategy` is deprecated, please use  the non experimental symbol `tf.distribute.TPUStrategy` instead.\n"
          ]
        }
      ]
    },
    {
      "cell_type": "code",
      "source": [
        "#proof of concept ran on older normalized data set\n",
        "rating_df = pd.read_csv('train_streamID.csv')\n",
        "rating_df = rating_df.rename(columns={'UserID':'u_id','StreamID':'s_id','Rating':'rate'})\n",
        "rating_df.head()"
      ],
      "metadata": {
        "colab": {
          "base_uri": "https://localhost:8080/",
          "height": 206
        },
        "id": "d7sw3eHgIQ7t",
        "outputId": "60a87256-2741-42b1-df8f-12b4b1690f87"
      },
      "execution_count": null,
      "outputs": [
        {
          "output_type": "execute_result",
          "data": {
            "text/plain": [
              "   u_id         s_id      rate\n",
              "0     1  33846768288  2.014098\n",
              "1     1  33887624992  1.000000\n",
              "2     1  33890145056  2.014098\n",
              "3     1  33903958784  2.014098\n",
              "4     1  33929318864  9.993371"
            ],
            "text/html": [
              "\n",
              "  <div id=\"df-85c1512f-0afd-46f1-a828-26040a90532d\">\n",
              "    <div class=\"colab-df-container\">\n",
              "      <div>\n",
              "<style scoped>\n",
              "    .dataframe tbody tr th:only-of-type {\n",
              "        vertical-align: middle;\n",
              "    }\n",
              "\n",
              "    .dataframe tbody tr th {\n",
              "        vertical-align: top;\n",
              "    }\n",
              "\n",
              "    .dataframe thead th {\n",
              "        text-align: right;\n",
              "    }\n",
              "</style>\n",
              "<table border=\"1\" class=\"dataframe\">\n",
              "  <thead>\n",
              "    <tr style=\"text-align: right;\">\n",
              "      <th></th>\n",
              "      <th>u_id</th>\n",
              "      <th>s_id</th>\n",
              "      <th>rate</th>\n",
              "    </tr>\n",
              "  </thead>\n",
              "  <tbody>\n",
              "    <tr>\n",
              "      <th>0</th>\n",
              "      <td>1</td>\n",
              "      <td>33846768288</td>\n",
              "      <td>2.014098</td>\n",
              "    </tr>\n",
              "    <tr>\n",
              "      <th>1</th>\n",
              "      <td>1</td>\n",
              "      <td>33887624992</td>\n",
              "      <td>1.000000</td>\n",
              "    </tr>\n",
              "    <tr>\n",
              "      <th>2</th>\n",
              "      <td>1</td>\n",
              "      <td>33890145056</td>\n",
              "      <td>2.014098</td>\n",
              "    </tr>\n",
              "    <tr>\n",
              "      <th>3</th>\n",
              "      <td>1</td>\n",
              "      <td>33903958784</td>\n",
              "      <td>2.014098</td>\n",
              "    </tr>\n",
              "    <tr>\n",
              "      <th>4</th>\n",
              "      <td>1</td>\n",
              "      <td>33929318864</td>\n",
              "      <td>9.993371</td>\n",
              "    </tr>\n",
              "  </tbody>\n",
              "</table>\n",
              "</div>\n",
              "      <button class=\"colab-df-convert\" onclick=\"convertToInteractive('df-85c1512f-0afd-46f1-a828-26040a90532d')\"\n",
              "              title=\"Convert this dataframe to an interactive table.\"\n",
              "              style=\"display:none;\">\n",
              "        \n",
              "  <svg xmlns=\"http://www.w3.org/2000/svg\" height=\"24px\"viewBox=\"0 0 24 24\"\n",
              "       width=\"24px\">\n",
              "    <path d=\"M0 0h24v24H0V0z\" fill=\"none\"/>\n",
              "    <path d=\"M18.56 5.44l.94 2.06.94-2.06 2.06-.94-2.06-.94-.94-2.06-.94 2.06-2.06.94zm-11 1L8.5 8.5l.94-2.06 2.06-.94-2.06-.94L8.5 2.5l-.94 2.06-2.06.94zm10 10l.94 2.06.94-2.06 2.06-.94-2.06-.94-.94-2.06-.94 2.06-2.06.94z\"/><path d=\"M17.41 7.96l-1.37-1.37c-.4-.4-.92-.59-1.43-.59-.52 0-1.04.2-1.43.59L10.3 9.45l-7.72 7.72c-.78.78-.78 2.05 0 2.83L4 21.41c.39.39.9.59 1.41.59.51 0 1.02-.2 1.41-.59l7.78-7.78 2.81-2.81c.8-.78.8-2.07 0-2.86zM5.41 20L4 18.59l7.72-7.72 1.47 1.35L5.41 20z\"/>\n",
              "  </svg>\n",
              "      </button>\n",
              "      \n",
              "  <style>\n",
              "    .colab-df-container {\n",
              "      display:flex;\n",
              "      flex-wrap:wrap;\n",
              "      gap: 12px;\n",
              "    }\n",
              "\n",
              "    .colab-df-convert {\n",
              "      background-color: #E8F0FE;\n",
              "      border: none;\n",
              "      border-radius: 50%;\n",
              "      cursor: pointer;\n",
              "      display: none;\n",
              "      fill: #1967D2;\n",
              "      height: 32px;\n",
              "      padding: 0 0 0 0;\n",
              "      width: 32px;\n",
              "    }\n",
              "\n",
              "    .colab-df-convert:hover {\n",
              "      background-color: #E2EBFA;\n",
              "      box-shadow: 0px 1px 2px rgba(60, 64, 67, 0.3), 0px 1px 3px 1px rgba(60, 64, 67, 0.15);\n",
              "      fill: #174EA6;\n",
              "    }\n",
              "\n",
              "    [theme=dark] .colab-df-convert {\n",
              "      background-color: #3B4455;\n",
              "      fill: #D2E3FC;\n",
              "    }\n",
              "\n",
              "    [theme=dark] .colab-df-convert:hover {\n",
              "      background-color: #434B5C;\n",
              "      box-shadow: 0px 1px 3px 1px rgba(0, 0, 0, 0.15);\n",
              "      filter: drop-shadow(0px 1px 2px rgba(0, 0, 0, 0.3));\n",
              "      fill: #FFFFFF;\n",
              "    }\n",
              "  </style>\n",
              "\n",
              "      <script>\n",
              "        const buttonEl =\n",
              "          document.querySelector('#df-85c1512f-0afd-46f1-a828-26040a90532d button.colab-df-convert');\n",
              "        buttonEl.style.display =\n",
              "          google.colab.kernel.accessAllowed ? 'block' : 'none';\n",
              "\n",
              "        async function convertToInteractive(key) {\n",
              "          const element = document.querySelector('#df-85c1512f-0afd-46f1-a828-26040a90532d');\n",
              "          const dataTable =\n",
              "            await google.colab.kernel.invokeFunction('convertToInteractive',\n",
              "                                                     [key], {});\n",
              "          if (!dataTable) return;\n",
              "\n",
              "          const docLinkHtml = 'Like what you see? Visit the ' +\n",
              "            '<a target=\"_blank\" href=https://colab.research.google.com/notebooks/data_table.ipynb>data table notebook</a>'\n",
              "            + ' to learn more about interactive tables.';\n",
              "          element.innerHTML = '';\n",
              "          dataTable['output_type'] = 'display_data';\n",
              "          await google.colab.output.renderOutput(dataTable, element);\n",
              "          const docLink = document.createElement('div');\n",
              "          docLink.innerHTML = docLinkHtml;\n",
              "          element.appendChild(docLink);\n",
              "        }\n",
              "      </script>\n",
              "    </div>\n",
              "  </div>\n",
              "  "
            ]
          },
          "metadata": {},
          "execution_count": 7
        }
      ]
    },
    {
      "cell_type": "code",
      "source": [
        "# model requires a random seed\n",
        "rating_df = rating_df.sample(frac=1, random_state=73)\n",
        "\n",
        "X = rating_df[['u_id', 's_id']].values\n",
        "y = rating_df[\"rate\"]"
      ],
      "metadata": {
        "id": "SL4Bs9o6iTuZ"
      },
      "execution_count": null,
      "outputs": []
    },
    {
      "cell_type": "code",
      "source": [
        "# this says test and train but is really train and validation\n",
        "#lifted this from: https://www.kaggle.com/code/chaitanya99/recommendation-system-cf-anime\n",
        "test_set_size = 10000 #10k for test set\n",
        "train_indices = rating_df.shape[0] - test_set_size \n",
        "\n",
        "X_train, X_test, y_train, y_test = (\n",
        "    X[:train_indices],\n",
        "    X[train_indices:],\n",
        "    y[:train_indices],\n",
        "    y[train_indices:],\n",
        ")\n",
        "\n",
        "print('> Train set ratings: {}'.format(len(y_train)))\n",
        "print('> Test set ratings: {}'.format(len(y_test)))"
      ],
      "metadata": {
        "id": "x0qKtQswiWyZ",
        "outputId": "bc281064-6315-4735-f073-122b03fc5e39",
        "colab": {
          "base_uri": "https://localhost:8080/"
        }
      },
      "execution_count": null,
      "outputs": [
        {
          "output_type": "stream",
          "name": "stdout",
          "text": [
            "> Train set ratings: 1481841\n",
            "> Test set ratings: 10000\n"
          ]
        }
      ]
    },
    {
      "cell_type": "code",
      "source": [
        "X_train_array = [X_train[:, 0], X_train[:, 1]]\n",
        "X_test_array = [X_test[:, 0], X_test[:, 1]]"
      ],
      "metadata": {
        "id": "QyGHTM4NiYpx"
      },
      "execution_count": null,
      "outputs": []
    },
    {
      "cell_type": "code",
      "source": [
        "#from: https://github.com/hexiangnan/neural_collaborative_filtering/blob/4aab159e81c44b062c091bdaed0ab54ac632371f/NeuMF.py#L158\n",
        "in_u_dim = len(rating_df[\"u_id\"].unique())\n",
        "in_s_dim = len(rating_df[\"s_id\"].unique())\n",
        " \n",
        "latent_out_dim = 8 #embedding size\n",
        "# Embedding(input_dim = num_items\n",
        "# num_users, num_items = train.shape\n",
        "# output_dim = mf_dim\n",
        "# mf = 10"
      ],
      "metadata": {
        "id": "YXucb6SOx8Dp"
      },
      "execution_count": null,
      "outputs": []
    },
    {
      "cell_type": "code",
      "source": [
        "# Embedding layers\n",
        "from keras.layers import Add, Activation, Lambda, BatchNormalization, Concatenate, Dropout, Input, Embedding, Dot, Reshape, Dense, Flatten\n",
        "\n",
        "def ncf():\n",
        "    \n",
        "    user_gmf = Input(name = 'u_in_gmf', shape = [1])\n",
        "    stream_gmf = Input(name = 's_in_gmf', shape = [1])\n",
        "\n",
        "    user_embedding_gmf = Embedding(name = 'u_emb_gmf', input_dim = in_u_dim, output_dim = latent_out_dim)(user_gmf)\n",
        "    stream_embedding_gmf = Embedding(name = 's_emb_gmf', input_dim = in_s_dim, output_dim = latent_out_dim)(stream_gmf)\n",
        "    \n",
        "    x = tf.keras.layers.Multiply()([user_embedding_gmf, stream_embedding_gmf])\n",
        "    x = Model(inputs=[user_gmf,stream_gmf], outputs=x)\n",
        "\n",
        "\n",
        "    user_mlp = Input(name = 'u_in_mlp', shape = [1])\n",
        "    stream_mlp = Input(name = 's_in_mlp', shape = [1])\n",
        "\n",
        "    user_embedding_mlp = Embedding(name = 'u_emb_mlp', input_dim = in_u_dim,output_dim = latent_out_dim)(user_mlp)\n",
        "    stream_embedding_mlp = Embedding(name = 's_emb_mlp', input_dim = in_s_dim, output_dim = latent_out_dim)(stream_mlp)\n",
        "\n",
        "    y = tf.keras.layers.Concatenate()([user_embedding_mlp, stream_embedding_mlp])\n",
        "    y = Flatten()(y)\n",
        "\n",
        "    y = keras.layers.Dense(1, activation='relu')(y) \n",
        "    y = keras.layers.Dense(2, activation='relu')(y) \n",
        "    y = keras.layers.Dense(3, activation='relu')(y) \n",
        "    y = keras.layers.Dense(4, activation='relu')(y) \n",
        "    y = keras.layers.Dense(5, activation='relu')(y) \n",
        "    y = keras.layers.Dense(6, activation='relu')(y) \n",
        "    y = keras.layers.Dense(7, activation='relu')(y) \n",
        "    y = keras.layers.Dense(8, activation='relu')(y) \n",
        "    y = keras.layers.Reshape([1, 8])(y)\n",
        "    y = Model(inputs=[user_mlp,stream_mlp], outputs=y)\n",
        "\n",
        "\n",
        "    #combined https://pyimagesearch.com/2019/02/04/keras-multiple-inputs-and-mixed-data/\n",
        "    combined = tf.keras.layers.Concatenate()([x.output, y.output])\n",
        "    z = Dense(1, kernel_initializer='lecun_uniform')(combined)\n",
        "    z = Activation(\"sigmoid\")(z)\n",
        "  \n",
        "    model = Model(inputs=[[user_gmf,stream_gmf], [user_mlp,stream_mlp]], outputs=z)\n",
        "\n",
        "    model.compile(optimizer='sgd', loss='mse', metrics=[tf.keras.metrics.RootMeanSquaredError()])\n",
        "      #https://www.tensorflow.org/api_docs/python/tf/keras/metrics/RootMeanSquaredError\n",
        "    \n",
        "    return model\n",
        "\n",
        "with tpu_strategy.scope(): # creating the model in the TPUStrategy scope means we will train the model on the TPU\n",
        "  model = ncf()\n",
        "model.summary()\n",
        "#https://colab.research.google.com/notebooks/tpu.ipynb#scrollTo=hJl3vNtJOB-x\n",
        "\n",
        "\n",
        "#from: https://github.com/hexiangnan/neural_collaborative_filtering/blob/4aab159e81c44b062c091bdaed0ab54ac632371f/NeuMF.py#L65\n",
        "    # get_model(num_users, num_items, mf_dim=10, layers=[10], reg_layers=[0], reg_mf=0):\n",
        "    # MLP_Embedding_User = Embedding(input_dim = num_users, output_dim = layers[0]/2, name = \"mlp_embedding_user\",\n",
        "    #                               init = init_normal, W_regularizer = l2(reg_layers[0]), input_length=1)\n",
        "    # MLP_Embedding_Item = Embedding(input_dim = num_items, output_dim = layers[0]/2, name = 'mlp_embedding_item',\n",
        "    #                               init = init_normal, W_regularizer = l2(reg_layers[0]), input_length=1)   \n",
        "    # for idx in xrange(1, num_layer):\n",
        "    #     layer = Dense(layers[idx], W_regularizer= l2(reg_layers[idx]), activation='relu', name=\"layer%d\" %idx)\n",
        "    #     mlp_vector = layer(mlp_vector)\n",
        "    #skipping regularization due to compatibility issues\n",
        "#https://github.com/hexiangnan/neural_collaborative_filtering/blob/4aab159e81c44b062c091bdaed0ab54ac632371f/NeuMF.py#L15\n",
        "    # user_input = Input(shape=(1,), dtype='int32', name = 'user_input')\n",
        "    # item_input = Input(shape=(1,), dtype='int32', name = 'item_input')\n",
        "    \n",
        "    # # Embedding layer\n",
        "    # MF_Embedding_User = Embedding(input_dim = num_users, output_dim = mf_dim, name = 'mf_embedding_user',\n",
        "    #                               init = init_normal, W_regularizer = l2(reg_mf), input_length=1)\n",
        "    # MF_Embedding_Item = Embedding(input_dim = num_items, output_dim = mf_dim, name = 'mf_embedding_item',\n",
        "    #                               init = init_normal, W_regularizer = l2(reg_mf), input_length=1)   \n",
        "\n",
        "    # MLP_Embedding_User = Embedding(input_dim = num_users, output_dim = layers[0]/2, name = \"mlp_embedding_user\",\n",
        "    #                               init = init_normal, W_regularizer = l2(reg_layers[0]), input_length=1)\n",
        "    # MLP_Embedding_Item = Embedding(input_dim = num_items, output_dim = layers[0]/2, name = 'mlp_embedding_item',\n",
        "    #                               init = init_normal, W_regularizer = l2(reg_layers[0]), input_length=1)   \n",
        "    \n",
        "    # # MF part\n",
        "    # mf_user_latent = Flatten()(MF_Embedding_User(user_input))\n",
        "    # mf_item_latent = Flatten()(MF_Embedding_Item(item_input))\n",
        "    # mf_vector = merge([mf_user_latent, mf_item_latent], mode = 'mul') # element-wise multiply\n",
        "\n",
        "    # # MLP part \n",
        "    # mlp_user_latent = Flatten()(MLP_Embedding_User(user_input))\n",
        "    # mlp_item_latent = Flatten()(MLP_Embedding_Item(item_input))\n",
        "    # mlp_vector = merge([mlp_user_latent, mlp_item_latent], mode = 'concat')\n",
        "    # for idx in xrange(1, num_layer):\n",
        "    #     layer = Dense(layers[idx], W_regularizer= l2(reg_layers[idx]), activation='relu', name=\"layer%d\" %idx)\n",
        "    #     mlp_vector = layer(mlp_vector)\n",
        "\n",
        "    # # Concatenate MF and MLP parts\n",
        "    # #mf_vector = Lambda(lambda x: x * alpha)(mf_vector)\n",
        "    # #mlp_vector = Lambda(lambda x : x * (1-alpha))(mlp_vector)\n",
        "    # predict_vector = merge([mf_vector, mlp_vector], mode = 'concat')\n",
        "    \n",
        "    # # Final prediction layer\n",
        "    # prediction = Dense(1, activation='sigmoid', init='lecun_uniform', name = \"prediction\")(predict_vector)\n",
        "    \n",
        "    # model = Model(input=[user_input, item_input], output=prediction)\n"
      ],
      "metadata": {
        "colab": {
          "base_uri": "https://localhost:8080/"
        },
        "id": "jSIdbCkdjkVX",
        "outputId": "8359d92e-211d-4e25-8d43-8276a1c6388b"
      },
      "execution_count": null,
      "outputs": [
        {
          "output_type": "stream",
          "name": "stdout",
          "text": [
            "Model: \"model_19\"\n",
            "__________________________________________________________________________________________________\n",
            " Layer (type)                   Output Shape         Param #     Connected to                     \n",
            "==================================================================================================\n",
            " u_in_mlp (InputLayer)          [(None, 1)]          0           []                               \n",
            "                                                                                                  \n",
            " s_in_mlp (InputLayer)          [(None, 1)]          0           []                               \n",
            "                                                                                                  \n",
            " u_emb_mlp (Embedding)          (None, 1, 8)         775368      ['u_in_mlp[0][0]']               \n",
            "                                                                                                  \n",
            " s_emb_mlp (Embedding)          (None, 1, 8)         3586200     ['s_in_mlp[0][0]']               \n",
            "                                                                                                  \n",
            " concatenate_7 (Concatenate)    (None, 1, 16)        0           ['u_emb_mlp[0][0]',              \n",
            "                                                                  's_emb_mlp[0][0]']              \n",
            "                                                                                                  \n",
            " flatten_5 (Flatten)            (None, 16)           0           ['concatenate_7[0][0]']          \n",
            "                                                                                                  \n",
            " dense_41 (Dense)               (None, 1)            17          ['flatten_5[0][0]']              \n",
            "                                                                                                  \n",
            " dense_42 (Dense)               (None, 2)            4           ['dense_41[0][0]']               \n",
            "                                                                                                  \n",
            " dense_43 (Dense)               (None, 3)            9           ['dense_42[0][0]']               \n",
            "                                                                                                  \n",
            " dense_44 (Dense)               (None, 4)            16          ['dense_43[0][0]']               \n",
            "                                                                                                  \n",
            " dense_45 (Dense)               (None, 5)            25          ['dense_44[0][0]']               \n",
            "                                                                                                  \n",
            " dense_46 (Dense)               (None, 6)            36          ['dense_45[0][0]']               \n",
            "                                                                                                  \n",
            " u_in_gmf (InputLayer)          [(None, 1)]          0           []                               \n",
            "                                                                                                  \n",
            " s_in_gmf (InputLayer)          [(None, 1)]          0           []                               \n",
            "                                                                                                  \n",
            " dense_47 (Dense)               (None, 7)            49          ['dense_46[0][0]']               \n",
            "                                                                                                  \n",
            " u_emb_gmf (Embedding)          (None, 1, 8)         775368      ['u_in_gmf[0][0]']               \n",
            "                                                                                                  \n",
            " s_emb_gmf (Embedding)          (None, 1, 8)         3586200     ['s_in_gmf[0][0]']               \n",
            "                                                                                                  \n",
            " dense_48 (Dense)               (None, 8)            64          ['dense_47[0][0]']               \n",
            "                                                                                                  \n",
            " multiply_12 (Multiply)         (None, 1, 8)         0           ['u_emb_gmf[0][0]',              \n",
            "                                                                  's_emb_gmf[0][0]']              \n",
            "                                                                                                  \n",
            " reshape_2 (Reshape)            (None, 1, 8)         0           ['dense_48[0][0]']               \n",
            "                                                                                                  \n",
            " concatenate_8 (Concatenate)    (None, 1, 16)        0           ['multiply_12[0][0]',            \n",
            "                                                                  'reshape_2[0][0]']              \n",
            "                                                                                                  \n",
            " dense_49 (Dense)               (None, 1, 1)         17          ['concatenate_8[0][0]']          \n",
            "                                                                                                  \n",
            " activation_1 (Activation)      (None, 1, 1)         0           ['dense_49[0][0]']               \n",
            "                                                                                                  \n",
            "==================================================================================================\n",
            "Total params: 8,723,373\n",
            "Trainable params: 8,723,373\n",
            "Non-trainable params: 0\n",
            "__________________________________________________________________________________________________\n"
          ]
        }
      ]
    },
    {
      "cell_type": "code",
      "source": [
        "# Model training\n",
        "batch_size = 10000\n",
        "history = model.fit(\n",
        "    x=[X_train_array,X_train_array],\n",
        "    y=[y_train,y_train],\n",
        "    batch_size=batch_size,\n",
        "    epochs=20,\n",
        "    verbose=1,\n",
        "    validation_data=([X_test_array,X_test_array], [y_test,y_test])\n",
        ")\n",
        "\n",
        "model.save_weights('gmf.h5')"
      ],
      "metadata": {
        "colab": {
          "base_uri": "https://localhost:8080/"
        },
        "id": "7YnLr5gYkN_d",
        "outputId": "779fce8f-d151-47d6-843e-0a4a6212c2be"
      },
      "execution_count": null,
      "outputs": [
        {
          "output_type": "stream",
          "name": "stdout",
          "text": [
            "Epoch 1/20\n",
            "149/149 [==============================] - 11s 42ms/step - loss: 14.6398 - root_mean_squared_error: 3.8262 - val_loss: 13.7443 - val_root_mean_squared_error: 3.7073\n",
            "Epoch 2/20\n",
            "149/149 [==============================] - 4s 28ms/step - loss: 13.6160 - root_mean_squared_error: 3.6900 - val_loss: 13.5315 - val_root_mean_squared_error: 3.6785\n",
            "Epoch 3/20\n",
            "149/149 [==============================] - 4s 28ms/step - loss: 13.5295 - root_mean_squared_error: 3.6783 - val_loss: 13.5003 - val_root_mean_squared_error: 3.6743\n",
            "Epoch 4/20\n",
            "149/149 [==============================] - 4s 29ms/step - loss: 13.5115 - root_mean_squared_error: 3.6758 - val_loss: 13.4901 - val_root_mean_squared_error: 3.6729\n",
            "Epoch 5/20\n",
            "149/149 [==============================] - 4s 29ms/step - loss: 13.5048 - root_mean_squared_error: 3.6749 - val_loss: 13.4855 - val_root_mean_squared_error: 3.6723\n",
            "Epoch 6/20\n",
            "149/149 [==============================] - 4s 29ms/step - loss: 13.5014 - root_mean_squared_error: 3.6744 - val_loss: 13.4831 - val_root_mean_squared_error: 3.6719\n",
            "Epoch 7/20\n",
            "149/149 [==============================] - 4s 29ms/step - loss: 13.4994 - root_mean_squared_error: 3.6741 - val_loss: 13.4816 - val_root_mean_squared_error: 3.6717\n",
            "Epoch 8/20\n",
            "149/149 [==============================] - 4s 29ms/step - loss: 13.4981 - root_mean_squared_error: 3.6740 - val_loss: 13.4805 - val_root_mean_squared_error: 3.6716\n",
            "Epoch 9/20\n",
            "149/149 [==============================] - 4s 29ms/step - loss: 13.4973 - root_mean_squared_error: 3.6739 - val_loss: 13.4797 - val_root_mean_squared_error: 3.6715\n",
            "Epoch 10/20\n",
            "149/149 [==============================] - 4s 29ms/step - loss: 13.4966 - root_mean_squared_error: 3.6738 - val_loss: 13.4792 - val_root_mean_squared_error: 3.6714\n",
            "Epoch 11/20\n",
            "149/149 [==============================] - 4s 29ms/step - loss: 13.4962 - root_mean_squared_error: 3.6737 - val_loss: 13.4788 - val_root_mean_squared_error: 3.6713\n",
            "Epoch 12/20\n",
            "149/149 [==============================] - 4s 30ms/step - loss: 13.4958 - root_mean_squared_error: 3.6737 - val_loss: 13.4785 - val_root_mean_squared_error: 3.6713\n",
            "Epoch 13/20\n",
            "149/149 [==============================] - 4s 29ms/step - loss: 13.4955 - root_mean_squared_error: 3.6736 - val_loss: 13.4782 - val_root_mean_squared_error: 3.6713\n",
            "Epoch 14/20\n",
            "149/149 [==============================] - 4s 28ms/step - loss: 13.4953 - root_mean_squared_error: 3.6736 - val_loss: 13.4780 - val_root_mean_squared_error: 3.6712\n",
            "Epoch 15/20\n",
            "149/149 [==============================] - 4s 29ms/step - loss: 13.4951 - root_mean_squared_error: 3.6736 - val_loss: 13.4778 - val_root_mean_squared_error: 3.6712\n",
            "Epoch 16/20\n",
            "149/149 [==============================] - 4s 28ms/step - loss: 13.4949 - root_mean_squared_error: 3.6735 - val_loss: 13.4778 - val_root_mean_squared_error: 3.6712\n",
            "Epoch 17/20\n",
            "149/149 [==============================] - 4s 28ms/step - loss: 13.4948 - root_mean_squared_error: 3.6735 - val_loss: 13.4776 - val_root_mean_squared_error: 3.6712\n",
            "Epoch 18/20\n",
            "149/149 [==============================] - 4s 29ms/step - loss: 13.4947 - root_mean_squared_error: 3.6735 - val_loss: 13.4776 - val_root_mean_squared_error: 3.6712\n",
            "Epoch 19/20\n",
            "149/149 [==============================] - 4s 29ms/step - loss: 13.4946 - root_mean_squared_error: 3.6735 - val_loss: 13.4774 - val_root_mean_squared_error: 3.6712\n",
            "Epoch 20/20\n",
            "149/149 [==============================] - 4s 29ms/step - loss: 13.4945 - root_mean_squared_error: 3.6735 - val_loss: 13.4773 - val_root_mean_squared_error: 3.6711\n"
          ]
        }
      ]
    },
    {
      "cell_type": "code",
      "source": [
        "model.predict_on_batch([[rating_df.iloc[:,0].to_numpy(), rating_df.iloc[:,1].to_numpy()],[rating_df.iloc[:,0].to_numpy(), rating_df.iloc[:,1].to_numpy()]])\n"
      ],
      "metadata": {
        "colab": {
          "base_uri": "https://localhost:8080/"
        },
        "id": "65Kch9KnhYM_",
        "outputId": "4c91066c-a984-473c-b903-b8ad2f0a6e02"
      },
      "execution_count": null,
      "outputs": [
        {
          "output_type": "execute_result",
          "data": {
            "text/plain": [
              "array([[[0.9997717]],\n",
              "\n",
              "       [[0.9997719]],\n",
              "\n",
              "       [[0.9997721]],\n",
              "\n",
              "       ...,\n",
              "\n",
              "       [[0.9997719]],\n",
              "\n",
              "       [[0.9997721]],\n",
              "\n",
              "       [[0.999772 ]]], dtype=float32)"
            ]
          },
          "metadata": {},
          "execution_count": 35
        }
      ]
    },
    {
      "cell_type": "code",
      "source": [
        "import matplotlib.pyplot as plt\n",
        "%matplotlib inline\n",
        "\n",
        "plt.plot(history.history[\"loss\"][0:-2])\n",
        "plt.plot(history.history[\"root_mean_squared_error\"][0:-2])\n",
        "plt.title(\"MSE Loss, RMSE\")\n",
        "plt.ylabel(\"Loss\")\n",
        "plt.xlabel(\"epoch\")\n",
        "plt.legend([\"MSE Loss\", \"RMSE\"], loc=\"center\")\n",
        "plt.show()"
      ],
      "metadata": {
        "colab": {
          "base_uri": "https://localhost:8080/",
          "height": 295
        },
        "id": "gTDWZNG3n1Ef",
        "outputId": "f8e6e4d7-eaac-457a-c8c2-11aabf6827f4"
      },
      "execution_count": null,
      "outputs": [
        {
          "output_type": "display_data",
          "data": {
            "text/plain": [
              "<Figure size 432x288 with 1 Axes>"
            ],
            "image/png": "[encoded data removed]"
          },
          "metadata": {
            "needs_background": "light"
          }
        }
      ]
    },
    {
      "cell_type": "code",
      "source": [
        "final_RMSE = (history.history['root_mean_squared_error'])[-1]\n",
        "final_RMSE"
      ],
      "metadata": {
        "colab": {
          "base_uri": "https://localhost:8080/"
        },
        "id": "-w3iQ28com6X",
        "outputId": "14d435cc-206b-4601-9fb1-360906f6caaa"
      },
      "execution_count": null,
      "outputs": [
        {
          "output_type": "execute_result",
          "data": {
            "text/plain": [
              "3.673492908477783"
            ]
          },
          "metadata": {},
          "execution_count": 37
        }
      ]
    },
    {
      "cell_type": "code",
      "source": [
        "#https://stackoverflow.com/questions/17197492/is-there-a-library-function-for-root-mean-square-error-rmse-in-python\n",
        "from sklearn.metrics import mean_squared_error\n",
        "\n",
        "rms = mean_squared_error(y_actual, y_predicted, squared=False)"
      ],
      "metadata": {
        "id": "4TxmTEtQq7ko"
      },
      "execution_count": null,
      "outputs": []
    }
  ]
}